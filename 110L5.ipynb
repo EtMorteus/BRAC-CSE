{
  "nbformat": 4,
  "nbformat_minor": 0,
  "metadata": {
    "colab": {
      "provenance": [],
      "authorship_tag": "ABX9TyMQYG8nDC9M6MwiYmGUnhIc",
      "include_colab_link": true
    },
    "kernelspec": {
      "name": "python3",
      "display_name": "Python 3"
    },
    "language_info": {
      "name": "python"
    }
  },
  "cells": [
    {
      "cell_type": "markdown",
      "metadata": {
        "id": "view-in-github",
        "colab_type": "text"
      },
      "source": [
        "<a href=\"https://colab.research.google.com/github/EtMorteus/BRAC-CSE/blob/CSE110(Summer2023)/110L5.ipynb\" target=\"_parent\"><img src=\"https://colab.research.google.com/assets/colab-badge.svg\" alt=\"Open In Colab\"/></a>"
      ]
    },
    {
      "cell_type": "code",
      "execution_count": 2,
      "metadata": {
        "colab": {
          "base_uri": "https://localhost:8080/"
        },
        "id": "Xe6RfD3gzMSn",
        "outputId": "d9934f51-e764-4737-d003-fe113b9811ca"
      },
      "outputs": [
        {
          "output_type": "stream",
          "name": "stdout",
          "text": [
            "5\n",
            "10\n",
            "5\n",
            "6\n",
            "7\n",
            "['5', '10', '5', '6', '7']\n"
          ]
        }
      ],
      "source": [
        "#1\n",
        "a=[]\n",
        "c=0\n",
        "while c<=4:\n",
        "  x=input()\n",
        "  a.append(x)\n",
        "  c+=1\n",
        "print(a)"
      ]
    },
    {
      "cell_type": "code",
      "source": [
        "#2\n",
        "a=[]\n",
        "b=[]\n",
        "c=0\n",
        "n=int(input(\"elemnumb:\"))\n",
        "while c<n:\n",
        "  x=input(\"\")\n",
        "  a.append(x)\n",
        "  c+=1\n",
        "if len(a)>=4:\n",
        "  b.append(a[2:-2])\n",
        "else:\n",
        "  print(\"Not Possible\")\n",
        "print(b)\n",
        "\n",
        "\n",
        "\n",
        "\n",
        "\n"
      ],
      "metadata": {
        "colab": {
          "base_uri": "https://localhost:8080/"
        },
        "id": "9gEsw49Zz4Sn",
        "outputId": "88c57e88-d36a-442e-b8ad-44b0c68af8e9"
      },
      "execution_count": 18,
      "outputs": [
        {
          "name": "stdout",
          "output_type": "stream",
          "text": [
            "elemnumb:4\n",
            "10\n",
            "20\n",
            "30\n",
            "40\n"
          ]
        }
      ]
    },
    {
      "cell_type": "code",
      "source": [
        "#3\n",
        "c=0\n",
        "a=[]\n",
        "while c<=4:\n",
        "  x=input()\n",
        "  a.append(x)\n",
        "  c+=1\n",
        "print(\"Printing values in reverse order:\")\n",
        "for i in a[::-1]:\n",
        "  print(i)"
      ],
      "metadata": {
        "colab": {
          "base_uri": "https://localhost:8080/"
        },
        "id": "TctiznnL4B3V",
        "outputId": "cedd454d-0e50-4d02-8485-1862f0914993"
      },
      "execution_count": 28,
      "outputs": [
        {
          "output_type": "stream",
          "name": "stdout",
          "text": [
            "1\n",
            "2\n",
            "3\n",
            "4\n",
            "5\n",
            "Printing values in reverse order\n",
            "5\n",
            "4\n",
            "3\n",
            "2\n",
            "1\n"
          ]
        }
      ]
    },
    {
      "cell_type": "code",
      "source": [
        "#4\n",
        "a=[1,2,3,4,5,6,7]\n",
        "b=[]\n",
        "for i in a:\n",
        "  b.append(i**2)\n",
        "print(b)"
      ],
      "metadata": {
        "colab": {
          "base_uri": "https://localhost:8080/"
        },
        "id": "Be9A2MJL6U2F",
        "outputId": "9233eb38-ccb9-492f-f155-a18a99fae111"
      },
      "execution_count": 8,
      "outputs": [
        {
          "output_type": "stream",
          "name": "stdout",
          "text": [
            "[1, 4, 9, 16, 25, 36, 49]\n"
          ]
        }
      ]
    },
    {
      "cell_type": "code",
      "source": [
        "#5\n",
        "a=[\"hey\",\"there\", \"\",\"what's\",\"\",\"up\",\"\",\"?\"]\n",
        "for i in a:\n",
        "  if i==\"\":\n",
        "    a.remove(i)\n",
        "print(a)\n"
      ],
      "metadata": {
        "colab": {
          "base_uri": "https://localhost:8080/"
        },
        "id": "TFMXGCv79kj0",
        "outputId": "94b88f98-a060-4ec5-bbcd-ccea68586c62"
      },
      "execution_count": 4,
      "outputs": [
        {
          "output_type": "stream",
          "name": "stdout",
          "text": [
            "['hey', 'there', \"what's\", 'up', '?']\n"
          ]
        }
      ]
    },
    {
      "cell_type": "code",
      "source": [
        "#6\n",
        "x=\"7,13,2,10,6,-11,0\"\n",
        "c=0\n",
        "d=0\n",
        "a=x.split(',')\n",
        "for i in a:\n",
        "  if int(i)>c:\n",
        "    c=int(i)\n",
        "    d+=1\n",
        "print(f\"The largest value is {c} at the index {d-1}\")\n"
      ],
      "metadata": {
        "colab": {
          "base_uri": "https://localhost:8080/"
        },
        "id": "28Au0ztw_JLz",
        "outputId": "fcefda0b-3025-4188-e001-cc8d821b0a11"
      },
      "execution_count": 19,
      "outputs": [
        {
          "output_type": "stream",
          "name": "stdout",
          "text": [
            "The largest value is 13 at the index 1\n"
          ]
        }
      ]
    },
    {
      "cell_type": "code",
      "source": [
        "#7\n",
        "a=[1,7,4,5]\n",
        "b=[6,1,3,9]\n",
        "c=a[:-1]+b\n",
        "print(c)"
      ],
      "metadata": {
        "colab": {
          "base_uri": "https://localhost:8080/"
        },
        "id": "MhGjNTCYI5sb",
        "outputId": "4e4d0103-ef8a-4f5c-efce-8796276a1ce3"
      },
      "execution_count": 27,
      "outputs": [
        {
          "output_type": "stream",
          "name": "stdout",
          "text": [
            "[1, 7, 4, 6, 1, 3, 9]\n"
          ]
        }
      ]
    },
    {
      "cell_type": "code",
      "source": [
        "#8\n",
        "a=[1,2,3,4,5,6,7,8,9]\n",
        "b= [10,11,12,-13,-14,-15,-16]\n",
        "c=[]\n",
        "for i,j in zip(a,b):\n",
        "  if i%2==0:\n",
        "    c.append(i)\n",
        "  if j%2==0:\n",
        "    c.append(j)\n",
        "print(c)\n",
        "\n"
      ],
      "metadata": {
        "colab": {
          "base_uri": "https://localhost:8080/"
        },
        "id": "pjdrDZe7KMvK",
        "outputId": "9b8e624c-1d61-4f4a-bb07-90fbaeb6ce68"
      },
      "execution_count": 44,
      "outputs": [
        {
          "output_type": "stream",
          "name": "stdout",
          "text": [
            "[10, 2, 12, 4, -14, 6, -16]\n"
          ]
        }
      ]
    },
    {
      "cell_type": "code",
      "source": [
        "#9\n",
        "x='7 12 4 55 96 2 11 61 33 42'\n",
        "y=[]\n",
        "z=[]\n",
        "z1 = ''\n",
        "for i in x:\n",
        "    if i == ' ':\n",
        "        y.append(z1)\n",
        "        z1 = ''\n",
        "    else:\n",
        "        z1 += i\n",
        "for i in y:\n",
        "  if int(i)%2!=0:\n",
        "    z.append(i)\n",
        "print(f'Og list:{y}\\nMod list{z}')"
      ],
      "metadata": {
        "colab": {
          "base_uri": "https://localhost:8080/"
        },
        "id": "BhjvslIuM8Aa",
        "outputId": "8c9bd956-9ab1-47ee-9d1b-6a2b6c23cd5a"
      },
      "execution_count": 3,
      "outputs": [
        {
          "output_type": "stream",
          "name": "stdout",
          "text": [
            "Og list:['7', '12', '4', '55', '96', '2', '11', '61', '33']\n",
            "Mod list['7', '55', '11', '61', '33']\n"
          ]
        }
      ]
    },
    {
      "cell_type": "code",
      "source": [
        "#10\n",
        "a=\"0,0,1,2,3,4,4,5,6,6,6,7,8,9,4,4\"\n",
        "b=a.split(\",\")\n",
        "c=[]\n",
        "for i in b:\n",
        "  if i not in c:\n",
        "    c.append(i)\n",
        "print(f\"Og list{b}\\nMod list{c}\")"
      ],
      "metadata": {
        "colab": {
          "base_uri": "https://localhost:8080/"
        },
        "id": "JYr9z2QgTLL0",
        "outputId": "5f1dd98c-95d4-43d7-b1f3-e44c42bd587c"
      },
      "execution_count": 17,
      "outputs": [
        {
          "output_type": "stream",
          "name": "stdout",
          "text": [
            "Og list['0', '0', '1', '2', '3', '4', '4', '5', '6', '6', '6', '7', '8', '9', '4', '4']\n",
            "Mod list['0', '1', '2', '3', '4', '5', '6', '7', '8', '9']\n"
          ]
        }
      ]
    },
    {
      "cell_type": "code",
      "source": [
        "#11\n",
        "a=[1,2,3,4,5]\n",
        "b=[6,7,8,9,1]\n",
        "flag=False\n",
        "for i in a:\n",
        "  if i not in b:\n",
        "    flag=False\n",
        "  else:\n",
        "    flag=True\n",
        "  break\n",
        "print(flag)"
      ],
      "metadata": {
        "colab": {
          "base_uri": "https://localhost:8080/"
        },
        "id": "uUa0Q_0DUDXx",
        "outputId": "61bfc892-26bc-4a2e-d22e-26d7423cc6b3"
      },
      "execution_count": 20,
      "outputs": [
        {
          "output_type": "stream",
          "name": "stdout",
          "text": [
            "True\n"
          ]
        }
      ]
    },
    {
      "cell_type": "code",
      "source": [
        "#12\n",
        "x='7 12 4 55 96 2 11 61 33 42'\n",
        "y=''\n",
        "y+=x.replace(\" \",\",\")\n",
        "print(y)"
      ],
      "metadata": {
        "colab": {
          "base_uri": "https://localhost:8080/"
        },
        "id": "YnrHQLwIfyz4",
        "outputId": "8a6e8644-da86-481a-a0c6-695ddb2c94f3"
      },
      "execution_count": 20,
      "outputs": [
        {
          "output_type": "stream",
          "name": "stdout",
          "text": [
            "7,12,4,55,96,2,11,61,33,42\n"
          ]
        }
      ]
    }
  ]
}