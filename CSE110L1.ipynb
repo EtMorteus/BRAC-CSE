{
  "nbformat": 4,
  "nbformat_minor": 0,
  "metadata": {
    "colab": {
      "provenance": [],
      "authorship_tag": "ABX9TyPhmRulgFfMiTOUCbdz6sro",
      "include_colab_link": true
    },
    "kernelspec": {
      "name": "python3",
      "display_name": "Python 3"
    },
    "language_info": {
      "name": "python"
    }
  },
  "cells": [
    {
      "cell_type": "markdown",
      "metadata": {
        "id": "view-in-github",
        "colab_type": "text"
      },
      "source": [
        "<a href=\"https://colab.research.google.com/github/EtMorteus/BRAC-CSE/blob/CSE110(Summer2023)/CSE110L1.ipynb\" target=\"_parent\"><img src=\"https://colab.research.google.com/assets/colab-badge.svg\" alt=\"Open In Colab\"/></a>"
      ]
    },
    {
      "cell_type": "code",
      "execution_count": null,
      "metadata": {
        "id": "FlLYlNP2wgOP"
      },
      "outputs": [],
      "source": [
        "#1\n",
        "x=\"Hello World\"\n",
        "print(x)"
      ]
    },
    {
      "cell_type": "code",
      "source": [
        "#2\n",
        "x=54\n",
        "y=56\n",
        "z=x+y\n",
        "print(z)"
      ],
      "metadata": {
        "colab": {
          "base_uri": "https://localhost:8080/"
        },
        "id": "2TLLQAmtwpTn",
        "outputId": "12ecfdda-316d-4dbc-fc71-f3c7f7342b38"
      },
      "execution_count": null,
      "outputs": [
        {
          "output_type": "stream",
          "name": "stdout",
          "text": [
            "110\n"
          ]
        }
      ]
    },
    {
      "cell_type": "code",
      "source": [
        "#3\n",
        "season='Summer'\n",
        "year='2023'\n",
        "print(f\"{season}\\n{year}\")\n"
      ],
      "metadata": {
        "colab": {
          "base_uri": "https://localhost:8080/"
        },
        "id": "b5t2QZwWxA6p",
        "outputId": "8af2a568-526a-4834-87d0-8c823f38be71"
      },
      "execution_count": null,
      "outputs": [
        {
          "output_type": "stream",
          "name": "stdout",
          "text": [
            "Summer\n",
            "2023\n"
          ]
        }
      ]
    },
    {
      "cell_type": "code",
      "source": [
        "#4\n",
        "x=input()\n",
        "print(f\"Your name is {x}\")"
      ],
      "metadata": {
        "colab": {
          "base_uri": "https://localhost:8080/"
        },
        "id": "911TkzxJxeX3",
        "outputId": "66cca329-c5b1-4419-f5f8-a8c8140d0603"
      },
      "execution_count": null,
      "outputs": [
        {
          "output_type": "stream",
          "name": "stdout",
          "text": [
            "adsd\n",
            "Your name is adsd\n"
          ]
        }
      ]
    },
    {
      "cell_type": "code",
      "source": [
        "#5\n",
        "m=int(input())\n",
        "n=int(input())\n",
        "x=m**n\n",
        "print(f\"{m}^{n}:{x}\")"
      ],
      "metadata": {
        "colab": {
          "base_uri": "https://localhost:8080/"
        },
        "id": "Bk2TuiChxumA",
        "outputId": "9b0f5336-5e3b-4921-dc74-4ee999af5812"
      },
      "execution_count": null,
      "outputs": [
        {
          "output_type": "stream",
          "name": "stdout",
          "text": [
            "2\n",
            "3\n",
            "2^3:8\n"
          ]
        }
      ]
    },
    {
      "cell_type": "code",
      "source": [
        "#6\n",
        "x=int(input(\"Enter Number Of Shipment:\"))\n",
        "s=x-x%4\n",
        "print(s)"
      ],
      "metadata": {
        "colab": {
          "base_uri": "https://localhost:8080/"
        },
        "id": "db3ndB7UyCTH",
        "outputId": "7430982c-43b0-4d34-aa5f-e310445812d8"
      },
      "execution_count": null,
      "outputs": [
        {
          "output_type": "stream",
          "name": "stdout",
          "text": [
            "Enter Number Of Shipment:23\n",
            "20\n"
          ]
        }
      ]
    },
    {
      "cell_type": "code",
      "source": [
        "#7\n",
        "a=int(input())\n",
        "b=int(input())\n",
        "c=int(input())\n",
        "d=float(input())\n",
        "formula110=a**c+b*a-d/3\n",
        "print(formula110\\)"
      ],
      "metadata": {
        "id": "YXmJXIwCzcrZ",
        "colab": {
          "base_uri": "https://localhost:8080/"
        },
        "outputId": "6593205f-f8a1-426c-dfea-ef0ee04f2273"
      },
      "execution_count": null,
      "outputs": [
        {
          "output_type": "stream",
          "name": "stdout",
          "text": [
            "2\n",
            "6\n",
            "8\n",
            "1.3\n",
            "267.56666666666666\n"
          ]
        }
      ]
    },
    {
      "cell_type": "code",
      "source": [
        "#8\n",
        "a=int(input())\n",
        "x=a//3\n",
        "z=a-3*x\n",
        "print(f\"Each friend will receive {x} chocolates \\nRemaining Chocolates {z}\" )"
      ],
      "metadata": {
        "colab": {
          "base_uri": "https://localhost:8080/"
        },
        "id": "LeWUmNyy0jmx",
        "outputId": "e4c0b115-ef62-47e6-9c34-b70ca57e16c9"
      },
      "execution_count": null,
      "outputs": [
        {
          "output_type": "stream",
          "name": "stdout",
          "text": [
            "50\n",
            "Each friend will receive 16 chocolates \n",
            "Remaining Chocolates 2\n"
          ]
        }
      ]
    },
    {
      "cell_type": "code",
      "source": [
        "#9\n",
        "m=input()\n",
        "n=input()\n",
        "print(f\"{n}{m}\")"
      ],
      "metadata": {
        "colab": {
          "base_uri": "https://localhost:8080/"
        },
        "id": "sViaO1jq2f1J",
        "outputId": "3a6431df-ab21-4757-fdc9-a3914fb09d40"
      },
      "execution_count": null,
      "outputs": [
        {
          "output_type": "stream",
          "name": "stdout",
          "text": [
            "python\n",
            "3\n",
            "3python\n"
          ]
        }
      ]
    },
    {
      "cell_type": "code",
      "source": [
        "#10\n",
        "a=int(input())\n",
        "d=float(input())\n",
        "b=int(input())\n",
        "\n",
        "s=a+d\n",
        "print(f\"The inputs:{a},{d},{b}\\nThe Restults:{s}{b}\")\n"
      ],
      "metadata": {
        "colab": {
          "base_uri": "https://localhost:8080/"
        },
        "id": "EfknfSpo4Ax_",
        "outputId": "ad4a46a4-6ff2-4f6a-ea04-e6bde087e0a0"
      },
      "execution_count": null,
      "outputs": [
        {
          "output_type": "stream",
          "name": "stdout",
          "text": [
            "3\n",
            "11.57\n",
            "7\n",
            "The inputs:3,11.57,7\n",
            "The Restults:14.577\n"
          ]
        }
      ]
    },
    {
      "cell_type": "code",
      "source": [
        "#11\n",
        "x=int(input())\n",
        "if x%2==0:\n",
        "  print(\"True\")\n",
        "else:\n",
        "  print(\"False\")"
      ],
      "metadata": {
        "colab": {
          "base_uri": "https://localhost:8080/"
        },
        "id": "WqvoW5fO5MeN",
        "outputId": "cde36354-e352-4365-e459-07ef578a53da"
      },
      "execution_count": null,
      "outputs": [
        {
          "output_type": "stream",
          "name": "stdout",
          "text": [
            "4\n",
            "True\n"
          ]
        }
      ]
    }
  ]
}