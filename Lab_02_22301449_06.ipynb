{
  "nbformat": 4,
  "nbformat_minor": 0,
  "metadata": {
    "colab": {
      "provenance": [],
      "authorship_tag": "ABX9TyNyA1hpBmwb8EgNmQ+B24an",
      "include_colab_link": true
    },
    "kernelspec": {
      "name": "python3",
      "display_name": "Python 3"
    },
    "language_info": {
      "name": "python"
    }
  },
  "cells": [
    {
      "cell_type": "markdown",
      "metadata": {
        "id": "view-in-github",
        "colab_type": "text"
      },
      "source": [
        "<a href=\"https://colab.research.google.com/github/EtMorteus/BRAC-CSE/blob/CSE220(Fall2022)/Lab_02_22301449_06.ipynb\" target=\"_parent\"><img src=\"https://colab.research.google.com/assets/colab-badge.svg\" alt=\"Open In Colab\"/></a>"
      ]
    },
    {
      "cell_type": "code",
      "source": [
        "a=[[0]*10, [0]*10]\n",
        "b=input()\n",
        "c=input()\n",
        "d=''\n",
        "s=''\n",
        "s1=''\n",
        "count=0\n",
        "if len(b)>10 or len(c)>10:\n",
        "  print('Invalid Input Size')\n",
        "for i in range(len(b)):\n",
        "\n",
        "  a[0][i]=b[i]\n",
        "for i in range(len(c)):\n",
        "  a[1][i]=c[i]\n",
        "\n",
        "print(a)\n",
        "for i in range(len(b)):\n",
        "  if ord(b[i])>=65 and ord(b[i])<=90:\n",
        "    s=i\n",
        "    print(\" Starting index:\",(s))\n",
        "    print(\" Starting Charecter:\",(b[s]))\n",
        "for k in range(len(c)):\n",
        "  if ord(c[k])>=65 and ord(c[k])<=90:\n",
        "    s1=k\n",
        "    print(\" Starting index:\",(s1))\n",
        "    print(\" Starting Charecter:\",c[s1])\n",
        "ct=0\n",
        "while True:\n",
        "  d=input()\n",
        "  if d=='q' or d==\"Q\":\n",
        "    break\n",
        "    \n",
        "\n",
        "  else:\n",
        "    for i in range(len(a[0])):\n",
        "\n",
        "       print(a[1][(s1+i)%len(a[1])],end='')\n",
        "       ct+=1\n",
        "\n",
        "#rightLeft2\n",
        "#giRtfel2th"
      ],
      "metadata": {
        "colab": {
          "base_uri": "https://localhost:8080/"
        },
        "id": "jtmv3_7GaHAK",
        "outputId": "a758803d-be71-4c14-8f86-45d7c2dd9f65"
      },
      "execution_count": null,
      "outputs": [
        {
          "name": "stdout",
          "output_type": "stream",
          "text": [
            "giRtfel2th\n",
            "rightLeft2\n",
            "[['g', 'i', 'R', 't', 'f', 'e', 'l', '2', 't', 'h'], ['r', 'i', 'g', 'h', 't', 'L', 'e', 'f', 't', '2']]\n",
            " Starting index: 2\n",
            " Starting Charecter: R\n",
            " Starting index: 5\n",
            " Starting Charecter: L\n",
            "b\n",
            "Left2rightB\n",
            "Left2rightQ\n"
          ]
        }
      ]
    }
  ]
}