{
  "nbformat": 4,
  "nbformat_minor": 0,
  "metadata": {
    "colab": {
      "provenance": [],
      "authorship_tag": "ABX9TyNnFmT+50AvmwzBVfQxRe9p",
      "include_colab_link": true
    },
    "kernelspec": {
      "name": "python3",
      "display_name": "Python 3"
    },
    "language_info": {
      "name": "python"
    }
  },
  "cells": [
    {
      "cell_type": "markdown",
      "metadata": {
        "id": "view-in-github",
        "colab_type": "text"
      },
      "source": [
        "<a href=\"https://colab.research.google.com/github/EtMorteus/BRAC-CSE/blob/CSE111(Spring2022)/CSE111_lab_1.ipynb\" target=\"_parent\"><img src=\"https://colab.research.google.com/assets/colab-badge.svg\" alt=\"Open In Colab\"/></a>"
      ]
    },
    {
      "cell_type": "code",
      "execution_count": null,
      "metadata": {
        "id": "sFuAqV3PY4dW"
      },
      "outputs": [],
      "source": [
        "#string1\n",
        "v1=input(\"please give an input:\")\n",
        "lcount=0\n",
        "ucount=0\n",
        "for i in v1:\n",
        "  if ord(i)>=65 and ord(i)<=90:\n",
        "    ucount+=1\n",
        "  elif ord(i)>=97 and ord(i)<=122:\n",
        "    lcount+=1 \n",
        "  if lcount>ucount:\n",
        "   print(v1.lower())\n",
        "  elif ucount>lcount:\n",
        "    print(v1.upper())"
      ]
    },
    {
      "cell_type": "code",
      "source": [
        "#string2\n",
        "v1=input(\"please give an input:\")\n",
        "ncount=0\n",
        "wcount=0\n",
        "\n",
        "for i in v1:\n",
        "  if ord(i)>=65 and ord(i)<=90:\n",
        "    wcount+=1\n",
        "  elif ord(i)>=97 and ord(i)<=122:\n",
        "    wcount+=1 \n",
        "  elif ord(i)>=48 and ord(i)<=57:\n",
        "    ncount+=1\n",
        "length=len(v1)  \n",
        "if wcount==length:\n",
        "   print(\"Word\")\n",
        "elif ncount==length:\n",
        "     print(\"Number\")\n",
        "elif ncount<length:\n",
        "   print(\"Mixed\")\n",
        "\n",
        "   \n",
        " "
      ],
      "metadata": {
        "colab": {
          "base_uri": "https://localhost:8080/"
        },
        "id": "Z2_x695HaQ5P",
        "outputId": "32e3e070-31cd-42f3-c55a-c53e0884c395"
      },
      "execution_count": null,
      "outputs": [
        {
          "output_type": "stream",
          "name": "stdout",
          "text": [
            "please give an input:12345\n",
            "Number\n"
          ]
        }
      ]
    },
    {
      "cell_type": "code",
      "source": [
        "#string3\n",
        "v1=input()\n",
        "s1=\"\"\n",
        "cap=0\n",
        "for i in v1:    \n",
        " \n",
        "  if ord(i)>=65 and ord(i)<=90:\n",
        "    if cap==0:\n",
        "      cap+=1\n",
        "  elif cap==1:\n",
        "        break\n",
        "  if cap==1:\n",
        "      s1+=i\n",
        " \n",
        "s1=s1[1:]\n",
        "\n",
        "if s1=='':\n",
        "  print('Blank')\n",
        "else:    \n",
        "  print(s1)\n"
      ],
      "metadata": {
        "colab": {
          "base_uri": "https://localhost:8080/"
        },
        "id": "hX58K1oIJjvo",
        "outputId": "48e7a4b3-7df0-495c-cb0a-c788abbfa7e8"
      },
      "execution_count": null,
      "outputs": [
        {
          "output_type": "stream",
          "name": "stdout",
          "text": [
            "baNgladEsh\n",
            "Blank\n"
          ]
        }
      ]
    },
    {
      "cell_type": "code",
      "source": [
        "str1=input()\n",
        "str2=input()\n",
        "nstr=''\n",
        "for i in str1:\n",
        "  if i in str2:\n",
        "    nstr+=i\n",
        "for i in str2:\n",
        "  if i in str1:\n",
        "    nstr+=i\n",
        "\n",
        "if nstr=='':\n",
        "  print('Nothing in common.')\n",
        "else:\n",
        "  print(nstr)  "
      ],
      "metadata": {
        "colab": {
          "base_uri": "https://localhost:8080/"
        },
        "id": "zYIHWG29Sx3P",
        "outputId": "8e74e272-dd76-4632-b4c4-e074b2d5905f"
      },
      "execution_count": null,
      "outputs": [
        {
          "output_type": "stream",
          "name": "stdout",
          "text": [
            "harry\n",
            "hermione\n",
            "hrrhr\n"
          ]
        }
      ]
    },
    {
      "cell_type": "code",
      "source": [
        "#list2\n",
        "a=[]\n",
        "total=0\n",
        "n=int(input())\n",
        "for i in range(n):\n",
        "  j=input(\"Enter list:\").split(\" \")\n",
        "  list1=[int(j[i]) for i in range(len(j))]\n",
        "sum=0\n",
        "for i in list1:\n",
        "   sum=sum+i\n",
        "   if sum>total:\n",
        "     total=sum\n",
        "     a=j\n",
        "print(j)\n",
        "print(total)\n",
        "\n",
        "\n",
        "\n",
        "   \n",
        "\n"
      ],
      "metadata": {
        "colab": {
          "base_uri": "https://localhost:8080/"
        },
        "id": "G1Eg9CNhclYZ",
        "outputId": "de157dbd-1e68-493c-b810-bd0527b08989"
      },
      "execution_count": null,
      "outputs": [
        {
          "output_type": "stream",
          "name": "stdout",
          "text": [
            "2\n",
            "Enter list:1 3 4\n",
            "Enter list:2 3 4\n",
            "['2', '3', '4']\n",
            "9\n"
          ]
        }
      ]
    },
    {
      "cell_type": "code",
      "source": [
        "#dictionary1\n",
        "dict1={'a': 100, 'b': 100, 'c': 200, 'd': 300}\n",
        "dict2={'a': 300, 'b': 200, 'd': 400, 'e': 200}\n",
        "el={}\n",
        "for key in dict1:\n",
        "  if dict1[key]==dict2[key]:\n",
        "   el.update([key])\n",
        " \n",
        "  \n",
        "  \n",
        "  \n",
        "\n",
        "  \n",
        "\n",
        "  "
      ],
      "metadata": {
        "colab": {
          "base_uri": "https://localhost:8080/",
          "height": 235
        },
        "id": "FnrzxSF1jXAH",
        "outputId": "37ef9779-2d42-4523-d934-586c2c12497d"
      },
      "execution_count": null,
      "outputs": [
        {
          "output_type": "error",
          "ename": "KeyError",
          "evalue": "ignored",
          "traceback": [
            "\u001b[0;31m---------------------------------------------------------------------------\u001b[0m",
            "\u001b[0;31mKeyError\u001b[0m                                  Traceback (most recent call last)",
            "\u001b[0;32m<ipython-input-2-eb733c57d11e>\u001b[0m in \u001b[0;36m<module>\u001b[0;34m\u001b[0m\n\u001b[1;32m      4\u001b[0m \u001b[0mel\u001b[0m\u001b[0;34m=\u001b[0m\u001b[0;34m{\u001b[0m\u001b[0;34m}\u001b[0m\u001b[0;34m\u001b[0m\u001b[0;34m\u001b[0m\u001b[0m\n\u001b[1;32m      5\u001b[0m \u001b[0;32mfor\u001b[0m \u001b[0mkey\u001b[0m \u001b[0;32min\u001b[0m \u001b[0mdict1\u001b[0m\u001b[0;34m:\u001b[0m\u001b[0;34m\u001b[0m\u001b[0;34m\u001b[0m\u001b[0m\n\u001b[0;32m----> 6\u001b[0;31m   \u001b[0;32mif\u001b[0m \u001b[0mdict1\u001b[0m\u001b[0;34m[\u001b[0m\u001b[0mkey\u001b[0m\u001b[0;34m]\u001b[0m\u001b[0;34m==\u001b[0m\u001b[0mdict2\u001b[0m\u001b[0;34m[\u001b[0m\u001b[0mkey\u001b[0m\u001b[0;34m]\u001b[0m\u001b[0;34m:\u001b[0m\u001b[0;34m\u001b[0m\u001b[0;34m\u001b[0m\u001b[0m\n\u001b[0m\u001b[1;32m      7\u001b[0m    \u001b[0mel\u001b[0m\u001b[0;34m.\u001b[0m\u001b[0mupdate\u001b[0m\u001b[0;34m(\u001b[0m\u001b[0;34m[\u001b[0m\u001b[0mkey\u001b[0m\u001b[0;34m]\u001b[0m\u001b[0;34m)\u001b[0m\u001b[0;34m\u001b[0m\u001b[0;34m\u001b[0m\u001b[0m\n\u001b[1;32m      8\u001b[0m \u001b[0;34m\u001b[0m\u001b[0m\n",
            "\u001b[0;31mKeyError\u001b[0m: 'c'"
          ]
        }
      ]
    }
  ]
}