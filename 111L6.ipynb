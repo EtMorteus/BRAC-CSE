{
  "nbformat": 4,
  "nbformat_minor": 0,
  "metadata": {
    "colab": {
      "provenance": [],
      "authorship_tag": "ABX9TyMmXA1ABr1fsfvvh7gpuCnR",
      "include_colab_link": true
    },
    "kernelspec": {
      "name": "python3",
      "display_name": "Python 3"
    },
    "language_info": {
      "name": "python"
    }
  },
  "cells": [
    {
      "cell_type": "markdown",
      "metadata": {
        "id": "view-in-github",
        "colab_type": "text"
      },
      "source": [
        "<a href=\"https://colab.research.google.com/github/EtMorteus/BRAC-CSE/blob/CSE111(Spring2022)/111L6.ipynb\" target=\"_parent\"><img src=\"https://colab.research.google.com/assets/colab-badge.svg\" alt=\"Open In Colab\"/></a>"
      ]
    },
    {
      "cell_type": "code",
      "execution_count": null,
      "metadata": {
        "colab": {
          "base_uri": "https://localhost:8080/"
        },
        "id": "pjE2vBf1pGOx",
        "outputId": "281a1cc1-3e35-4506-cf28-0498590b1814"
      },
      "outputs": [
        {
          "output_type": "stream",
          "name": "stdout",
          "text": [
            "ID:1\n",
            " Name:Samin\n",
            " Department:CSE \n",
            " Age:21 \n",
            " CGPA:3.91\n",
            "-----------------------\n",
            "ID:2\n",
            " Name:Fahim\n",
            " Department:ECE \n",
            " Age:21 \n",
            " CGPA:3.85\n",
            "-----------------------\n",
            "ID:3\n",
            " Name:Tahura\n",
            " Department:EEE \n",
            " Age:22 \n",
            " CGPA:3.01\n",
            "-----------------------\n",
            "ID:4\n",
            " Name:Sumaiya\n",
            " Department:BBA \n",
            " Age:23 \n",
            " CGPA:3.96\n"
          ]
        }
      ],
      "source": [
        "#1\n",
        "class Student:\n",
        " id=0\n",
        " def __init__(self,name,dept,age,cg):\n",
        "   self.name=name\n",
        "   self.dept=dept\n",
        "   self.age=age\n",
        "   self.cg=cg\n",
        "   Student.id+=1\n",
        " def showDetails(self):\n",
        "   print(f\"ID:{self.id}\\n Name:{self.name}\\n Department:{self.dept} \\n Age:{self.age} \\n CGPA:{self.cg}\")\n",
        "\n",
        " @classmethod\n",
        " def from_String(cls,info):\n",
        "   info_list=info.split(\"-\")\n",
        "   name=info_list[0]\n",
        "   dept=info_list[1]\n",
        "   age=info_list[2]\n",
        "   cg=info_list[3]\n",
        "   return Student(name,dept,age,cg)\n",
        "\n",
        "\n",
        "\n",
        "\n",
        "\n",
        "s1 = Student(\"Samin\", \"CSE\", 21, 3.91)\n",
        "s1.showDetails()\n",
        "print(\"-----------------------\")\n",
        "s2 = Student(\"Fahim\", \"ECE\", 21, 3.85)\n",
        "s2.showDetails()\n",
        "print(\"-----------------------\")\n",
        "s3 = Student(\"Tahura\", \"EEE\", 22, 3.01)\n",
        "s3.showDetails() \n",
        "print(\"-----------------------\")\n",
        "s4 = Student.from_String(\"Sumaiya-BBA-23-3.96\")\n",
        "s4.showDetails() \n"
      ]
    },
    {
      "cell_type": "code",
      "source": [
        "from os import ST_RELATIME\n",
        "#2\n",
        "class Assassin:\n",
        " a=0\n",
        " def __init__(self,name,sr):\n",
        "    self.name=name\n",
        "    self.sr=sr\n",
        "    Assassin.a+=1\n",
        " def printDetails(self):\n",
        "    print(f\"Name:{self.name}\\n Success Rate:{self.sr}% \\n  Total Number Of Assasins:{self.a}\")\n",
        " @classmethod\n",
        " def failureRate(self,name,info):\n",
        "\n",
        "   return Assassin(name,100-info)\n",
        " @classmethod\n",
        " def failurePercentage(self,name,info):\n",
        "  v=info[:-1]\n",
        "  s=int(v)\n",
        "\n",
        "  \n",
        "  return Assassin(name,100-s)\n",
        "\n",
        "\n",
        "\n",
        "\n",
        "john_wick = Assassin('John Wick', 100)\n",
        "john_wick.printDetails()\n",
        "print('================================')\n",
        "nagisa = Assassin.failureRate(\"Nagisa\", 20)\n",
        "nagisa.printDetails()\n",
        "print('================================')\n",
        "akabane = Assassin.failurePercentage(\"Akabane\", \"10%\")\n",
        "akabane.printDetails()\n",
        " \n"
      ],
      "metadata": {
        "colab": {
          "base_uri": "https://localhost:8080/"
        },
        "id": "3f76gIdstkcJ",
        "outputId": "a38b1c0a-0752-4aa2-ff59-dadef2e11fb7"
      },
      "execution_count": null,
      "outputs": [
        {
          "output_type": "stream",
          "name": "stdout",
          "text": [
            "Name:John Wick\n",
            " Success Rate:100% \n",
            "  Total Number Of Assasins:1\n",
            "================================\n",
            "Name:Nagisa\n",
            " Success Rate:80% \n",
            "  Total Number Of Assasins:2\n",
            "================================\n",
            "Name:Akabane\n",
            " Success Rate:90% \n",
            "  Total Number Of Assasins:3\n"
          ]
        }
      ]
    },
    {
      "cell_type": "code",
      "source": [
        "#4\n",
        "class Travel:\n",
        "  count=0\n",
        "  ft=1\n",
        "  def __init__(self,source,dest):\n",
        "    self.source=source\n",
        "    self.dest=dest\n",
        "  def set_time(self,x):\n",
        "    Travel.ft=x\n",
        "  def set_destination(self,y):\n",
        "    self.dest=y\n",
        "  def set_source(self,z):\n",
        "    self.source=z\n",
        "  def display_travel_info(self):\n",
        "    Travel.count+=1\n",
        "    print(f\"Source:{self.source}\\nDestination: {self.dest}\\nFlight Time: {self.ft}:00\")\n",
        "\n",
        "print(\"No. of Traveller =\", Travel.count)\n",
        "print(\"=======================\")\n",
        "t1 = Travel(\"Dhaka\",\"India\")\n",
        "print(t1.display_travel_info())\n",
        "print(\"=======================\")\n",
        "t2 = Travel(\"Kuala Lampur\",\"Dhaka\")\n",
        "t2.set_time(23)\n",
        "print(t2.display_travel_info())\n",
        "print(\"=======================\")\n",
        "t3 = Travel(\"Dhaka\",\"New_Zealand\")\n",
        "t3.set_time(15)\n",
        "t3.set_destination(\"Germany\")\n",
        "print(t3.display_travel_info())\n",
        "print(\"=======================\")\n",
        "t4 = Travel(\"Dhaka\",\"India\")\n",
        "t4.set_time(9)\n",
        "t4.set_source(\"Malaysia\")\n",
        "t4.set_destination(\"Canada\")\n",
        "print(t4.display_travel_info())\n",
        "print(\"=======================\")\n",
        "print(\"No. of Traveller =\", Travel.count)\n",
        "\n"
      ],
      "metadata": {
        "colab": {
          "base_uri": "https://localhost:8080/"
        },
        "id": "adB2nw3mz70N",
        "outputId": "a56c5545-04c6-4354-d6a5-214595b537dc"
      },
      "execution_count": null,
      "outputs": [
        {
          "output_type": "stream",
          "name": "stdout",
          "text": [
            "No. of Traveller = 0\n",
            "=======================\n",
            "Source:Dhaka\n",
            "Destination: India\n",
            "Flight Time: 1:00\n",
            "None\n",
            "=======================\n",
            "Source:Kuala Lampur\n",
            "Destination: Dhaka\n",
            "Flight Time: 23:00\n",
            "None\n",
            "=======================\n",
            "Source:Dhaka\n",
            "Destination: Germany\n",
            "Flight Time: 15:00\n",
            "None\n",
            "=======================\n",
            "Source:Malaysia\n",
            "Destination: Canada\n",
            "Flight Time: 9:00\n",
            "None\n",
            "=======================\n",
            "No. of Traveller = 4\n"
          ]
        }
      ]
    },
    {
      "cell_type": "code",
      "source": [
        "class Cat:\n",
        "  Number_of_cats=0\n",
        "  def __init__(self,color=\"White\",action=\"Sitting\"):\n",
        "    self.color=color\n",
        "    self.action=action\n",
        "  @classmethod\n",
        "  def no_parameter(self):\n",
        "    return Cat(\"White\",\"Sitting\")\n",
        "  @classmethod\n",
        "  def first_parameter(cls,x):\n",
        "    return Cat(x,\"Sitting\")\n",
        "  @classmethod\n",
        "  def second_parameter(cls,y):\n",
        "    return Cat(\"Grey\",y)\n",
        "  @classmethod\n",
        "  def changeColor(self,x):\n",
        "    self.color=x\n",
        "  def printCat(self):\n",
        "    Cat.Number_of_cats+=1\n",
        "    print(f\"{self.color} cat is {self.action}\")\n",
        "\n",
        "print(\"Total number of cats:\", Cat.Number_of_cats)\n",
        "c1 = Cat.no_parameter()\n",
        "c2 = Cat.first_parameter(\"Black\")\n",
        "c3 = Cat(\"Brown\", \"jumping\")\n",
        "c4 = Cat(\"Red\", \"purring\")\n",
        "c5 = Cat.second_parameter(\"playing\")\n",
        "print(\"=======================\")\n",
        "c1.printCat()\n",
        "c2.printCat()\n",
        "c3.printCat()\n",
        "c4.printCat()\n",
        "c5.printCat()\n",
        "c1.changeColor(\"Blue\")\n",
        "c3.changeColor(\"Purple\")\n",
        "c1.printCat()\n",
        "c3.printCat()\n",
        "print(\"=======================\")\n",
        "print(\"Total number of cats:\", Cat.Number_of_cats)\n"
      ],
      "metadata": {
        "colab": {
          "base_uri": "https://localhost:8080/"
        },
        "id": "gQUj8aX44Znp",
        "outputId": "672c5d60-bfa9-4b45-8781-6b80e1d0cd78"
      },
      "execution_count": null,
      "outputs": [
        {
          "output_type": "stream",
          "name": "stdout",
          "text": [
            "Total number of cats: 0\n",
            "=======================\n",
            "White cat is Sitting\n",
            "Black cat is Sitting\n",
            "Brown cat is jumping\n",
            "Red cat is purring\n",
            "Grey cat is playing\n",
            "White cat is Sitting\n",
            "Brown cat is jumping\n",
            "=======================\n",
            "Total number of cats: 7\n"
          ]
        }
      ]
    },
    {
      "cell_type": "code",
      "source": [
        "#8\n",
        "class Cylinder:\n",
        "  radius=5\n",
        "  height=18\n",
        "  def __init__(self,radius,height):\n",
        "   self.radius=radius\n",
        "   self.height=height\n",
        "   print(f\"Default Radius:{Cylinder.radius} Default Height:{Cylinder.height}\")\n",
        "   print(f\"Updated Radius:{self.radius} Updated Height:{self.height} \")\n",
        "\n",
        "\n",
        "  @staticmethod \n",
        "  def area(x,y):\n",
        "    a=2*3.14167*x**2 + 2*3.14167*y**2\n",
        "    print(f\"Area:{a}\")\n",
        "  @staticmethod\n",
        "  def volume(z,m):\n",
        "    b=3.14167*z**2*m\n",
        "    print(f\"Volume:{b}\")\n",
        "  @classmethod\n",
        "  def swap(cls,a,b):\n",
        "   return Cylinder(a,b)\n",
        "  @classmethod\n",
        "  def changeFormat(cls,info):\n",
        "   info_list=info.split(\"-\")\n",
        "   c=int(info_list[0])\n",
        "   d=int(info_list[1])\n",
        "   return Cylinder(c,d)\n",
        "\n",
        "\n",
        "c1 = Cylinder(0,0)\n",
        "Cylinder.area(c1.radius,c1.height)\n",
        "Cylinder.volume(c1.radius,c1.height)\n",
        "print(\"===============================\")\n",
        "c2 = Cylinder.swap(8,3)\n",
        "c2.area(c2.radius,c2.height)\n",
        "c2.volume(c2.radius,c2.height)\n",
        "print(\"===============================\")\n",
        "c3 = Cylinder.changeFormat(\"7-13\")\n",
        "c3.area(c3.radius,c3.height)\n",
        "c3.volume(c3.radius,c3.height)\n",
        "print(\"===============================\")\n",
        "Cylinder(0.3,5.56).area(Cylinder.radius,Cylinder.height)\n",
        "print(\"===============================\")\n",
        "Cylinder(3,5).volume(Cylinder.radius,Cylinder.height)\n",
        "\n",
        "\n",
        "  \n",
        "\n"
      ],
      "metadata": {
        "colab": {
          "base_uri": "https://localhost:8080/"
        },
        "id": "C5WxJ-A38v4N",
        "outputId": "c0fc41de-a529-4e3d-e896-9424d8b48bca"
      },
      "execution_count": null,
      "outputs": [
        {
          "output_type": "stream",
          "name": "stdout",
          "text": [
            "Default Radius:5 Default Height:18\n",
            "Updated Radius:0 Updated Height:0 \n",
            "Area:0.0\n",
            "Volume:0.0\n",
            "===============================\n",
            "Default Radius:5 Default Height:18\n",
            "Updated Radius:8 Updated Height:3 \n",
            "Area:458.68381999999997\n",
            "Volume:603.20064\n",
            "===============================\n",
            "Default Radius:5 Default Height:18\n",
            "Updated Radius:7 Updated Height:13 \n",
            "Area:1369.76812\n",
            "Volume:2001.2437900000002\n",
            "===============================\n",
            "Default Radius:5 Default Height:18\n",
            "Updated Radius:0.3 Updated Height:5.56 \n",
            "Area:2192.88566\n",
            "===============================\n",
            "Default Radius:5 Default Height:18\n",
            "Updated Radius:3 Updated Height:5 \n",
            "Volume:1413.7514999999999\n"
          ]
        }
      ]
    }
  ]
}