{
  "nbformat": 4,
  "nbformat_minor": 0,
  "metadata": {
    "colab": {
      "provenance": [],
      "authorship_tag": "ABX9TyM1DIaLqJ8B3R5aQjL8s5Gg",
      "include_colab_link": true
    },
    "kernelspec": {
      "name": "python3",
      "display_name": "Python 3"
    },
    "language_info": {
      "name": "python"
    }
  },
  "cells": [
    {
      "cell_type": "markdown",
      "metadata": {
        "id": "view-in-github",
        "colab_type": "text"
      },
      "source": [
        "<a href=\"https://colab.research.google.com/github/EtMorteus/BRAC-CSE/blob/CSE111(Spring2022)/111lab5.ipynb\" target=\"_parent\"><img src=\"https://colab.research.google.com/assets/colab-badge.svg\" alt=\"Open In Colab\"/></a>"
      ]
    },
    {
      "cell_type": "code",
      "execution_count": null,
      "metadata": {
        "colab": {
          "base_uri": "https://localhost:8080/"
        },
        "id": "f3SygI0yyYCo",
        "outputId": "c0e6f2b6-e64d-4380-8f4b-d67ca5a7f90c"
      },
      "outputs": [
        {
          "output_type": "stream",
          "name": "stdout",
          "text": [
            "Quiz 1 (out of 10): 3\n",
            "Quiz 2 (out of 10): 5\n",
            "Lab (out of 30): 6\n",
            "Mid (out of 20): 7\n",
            "Final (out of 30): 8\n",
            "Total marks: 29\n"
          ]
        }
      ],
      "source": [
        "#1\n",
        "class Exam:\n",
        "  def __init__(self,Q1):\n",
        "    self.mark=Q1\n",
        "\n",
        "  def __add__(self,others): # self= q1, other=q2\n",
        "    m = self.mark+others.mark \n",
        "    obj = Exam(m)\n",
        "    return obj\n",
        "  \n",
        "\n",
        "Q1 = Exam(int(input(\"Quiz 1 (out of 10): \")))\n",
        "Q2 = Exam(int(input(\"Quiz 2 (out of 10): \")))\n",
        "Lab = Exam(int(input(\"Lab (out of 30): \")))\n",
        "Mid = Exam(int(input(\"Mid (out of 20): \")))\n",
        "Final = Exam(int(input(\"Final (out of 30): \")))\n",
        "\n",
        "total = Q1 + Q2 + Lab + Mid + Final\n",
        "print(\"Total marks: {}\".format(total.mark))\n",
        "\n"
      ]
    },
    {
      "cell_type": "code",
      "source": [
        "#2\n",
        "class Teacher:\n",
        "  def __init__(self,name,dept):\n",
        "    self.__name=name\n",
        "    self.__dept=dept\n",
        "    self.__c=[]\n",
        "  def addCourse(self,cname):\n",
        "    self.__c.append(cname.cname) \n",
        "  def printDetail(self):\n",
        "    print(f\"====================================\\n Name:{self.__name} \\n Department:{self.__dept} \\n List of courses \\n====================\")\n",
        "    for i in self.__c:\n",
        "      print([i])\n",
        "    return \n",
        "class Course:\n",
        "  def __init__(self,cname):\n",
        "    self.cname=cname\n",
        "t1 = Teacher(\"Saad Abdullah\", \"CSE\")\n",
        "t2 = Teacher(\"Mumit Khan\", \"CSE\")\n",
        "t3 = Teacher(\"Sadia Kazi\", \"CSE\")                          \n",
        "c1 = Course(\"CSE 110 Programming Language I\")                           \n",
        "c2 = Course(\"CSE 111 Programming Language-II\")                           \n",
        "c3 = Course(\"CSE 220 Data Structures\")                           \n",
        "c4 = Course(\"CSE 221 Algorithms\")                           \n",
        "c5 = Course(\"CCSE 230 Discrete Mathematics\")                           \n",
        "c6 = Course(\"CSE 310 Object Oriented Programming\")                           \n",
        "c7 = Course(\"CSE 320 Data Communications\")                          \n",
        "c8 = Course(\"CSE 340 Computer Architecture\") \n",
        "t1.addCourse(c1)\n",
        "t1.addCourse(c2)\n",
        "t2.addCourse(c3)\n",
        "t2.addCourse(c4)\n",
        "t2.addCourse(c5)\n",
        "t3.addCourse(c6)\n",
        "t3.addCourse(c7)\n",
        "t3.addCourse(c8)\n",
        "t1.printDetail()\n",
        "t2.printDetail()\n",
        "t3.printDetail()\n"
      ],
      "metadata": {
        "colab": {
          "base_uri": "https://localhost:8080/"
        },
        "id": "meJHpsaa2gHf",
        "outputId": "d6339b11-b09b-4581-cc2d-41c87b63a7a9"
      },
      "execution_count": null,
      "outputs": [
        {
          "output_type": "stream",
          "name": "stdout",
          "text": [
            "====================================\n",
            " Name:Saad Abdullah \n",
            " Department:CSE \n",
            " List of courses \n",
            "====================\n",
            "['CSE 110 Programming Language I']\n",
            "['CSE 111 Programming Language-II']\n",
            "====================================\n",
            " Name:Mumit Khan \n",
            " Department:CSE \n",
            " List of courses \n",
            "====================\n",
            "['CSE 220 Data Structures']\n",
            "['CSE 221 Algorithms']\n",
            "['CCSE 230 Discrete Mathematics']\n",
            "====================================\n",
            " Name:Sadia Kazi \n",
            " Department:CSE \n",
            " List of courses \n",
            "====================\n",
            "['CSE 310 Object Oriented Programming']\n",
            "['CSE 320 Data Communications']\n",
            "['CSE 340 Computer Architecture']\n"
          ]
        }
      ]
    },
    {
      "cell_type": "code",
      "source": [
        "#3\n",
        "class Team :\n",
        "  def __init__(self,teamname=None):\n",
        "    self.__teamname=teamname\n",
        "    self.__players=[]\n",
        "  def setName(self,tname):\n",
        "    self.tname=self.__teamname\n",
        "  def addPlayer(self,x):\n",
        "    self.__players.append(x.y)\n",
        "  def printDetail(self):\n",
        "    print(f\"====================================\\n Name:{self.__teamname} \\n \\n List of players: {self.__players} \\n====================\")\n",
        "\n",
        "class Player:\n",
        "  def __init__(self,y):\n",
        "    self.y=y\n",
        "b = Team()\n",
        "b.setName('Bangladesh')\n",
        "mashrafi = Player(\"Mashrafi\")\n",
        "b.addPlayer(mashrafi)\n",
        "tamim = Player(\"Tamim\")\n",
        "b.addPlayer(tamim)\n",
        "b.printDetail()\n",
        "a = Team(\"Australia\")\n",
        "ponting = Player(\"Ponting\")\n",
        "a.addPlayer(ponting)\n",
        "lee = Player(\"Lee\")\n",
        "a.addPlayer(lee)\n",
        "a.printDetail()\n"
      ],
      "metadata": {
        "id": "1FxD_RoR5zuY",
        "colab": {
          "base_uri": "https://localhost:8080/"
        },
        "outputId": "23b82f00-266a-49f0-884e-f8a72addf287"
      },
      "execution_count": null,
      "outputs": [
        {
          "output_type": "stream",
          "name": "stdout",
          "text": [
            "====================================\n",
            " Name:None \n",
            " \n",
            " List of players: ['Mashrafi', 'Tamim'] \n",
            "====================\n",
            "====================================\n",
            " Name:Australia \n",
            " \n",
            " List of players: ['Ponting', 'Lee'] \n",
            "====================\n"
          ]
        }
      ]
    },
    {
      "cell_type": "code",
      "source": [
        "#4\n",
        "class Color:\n",
        "  def __init__(self,clr):\n",
        "    self.clr=clr\n",
        "  def __add__(self,other):\n",
        "    if self.clr==\"yellow\" and other.clr==\"blue\":\n",
        "     C3=Color(\"Green\")\n",
        "    elif self.clr==\"blue\" and other.clr==\"yellow\":\n",
        "     C3=Color(\"Green\")\n",
        "    elif self.clr==\"red\" and other.clr==\"yellow\" :\n",
        "     C3=Color(\"Orange\")\n",
        "    elif self.clr==\"yellow\" and other.clr==\"red\" :\n",
        "     C3=Color(\"Orange\")\n",
        "    elif self.clr==\"red\" and other.clr==\"blue\":\n",
        "     C3=Color(\"Violet\")\n",
        "    elif self.clr==\"blue\" and other.clr==\"red\":\n",
        "     C3=Color(\"Violet\")\n",
        "    return C3\n",
        "    \n",
        "\n",
        "\n",
        "C1 = Color(input(\"First Color: \").lower())\n",
        "C2 = Color(input(\"Second Color: \").lower())\n",
        "C3 = C1 + C2\n",
        "print(\"Color formed:\", C3.clr)\n"
      ],
      "metadata": {
        "colab": {
          "base_uri": "https://localhost:8080/"
        },
        "id": "-0fG29nOxvGy",
        "outputId": "0e829c13-db15-4b07-9bfb-022e650b216c"
      },
      "execution_count": null,
      "outputs": [
        {
          "output_type": "stream",
          "name": "stdout",
          "text": [
            "First Color: blue\n",
            "Second Color: yellow\n",
            "Color formed: Green\n"
          ]
        }
      ]
    },
    {
      "cell_type": "code",
      "source": [
        "#5\n",
        "class Circle :\n",
        "  def __init__(self,radius):\n",
        "   self.radius=radius\n",
        "  def getRadius(self):\n",
        "    return self.radius\n",
        "  def setRadius(self,r2):\n",
        "    r2.radius=self.radius\n",
        "  def area(self):\n",
        "    a=3.14167*self.radius**2\n",
        "    return a\n",
        "   \n",
        "  def __add__(self,other):\n",
        "    nr=self.radius+other.radius\n",
        "    x=Circle(nr)\n",
        "    return x\n",
        "\n",
        "c1 = Circle(4)\n",
        "print(\"First circle radius:\" , c1.getRadius())\n",
        "print(\"First circle area:\" , c1.area())\n",
        " \n",
        "c2 = Circle(5)\n",
        "print(\"Second circle radius:\" , c2.getRadius())\n",
        "print(\"Second circle area:\" , c2.area())\n",
        " \n",
        "c3 = c1 + c2 \n",
        "print(\"Third circle radius:\" , c3.getRadius())\n",
        "print(\"Third circle area:\" , c3.area())\n",
        " "
      ],
      "metadata": {
        "colab": {
          "base_uri": "https://localhost:8080/"
        },
        "id": "EC5tqufJ2PKB",
        "outputId": "ca1ce76c-a64b-431b-a280-a69954b22160"
      },
      "execution_count": null,
      "outputs": [
        {
          "output_type": "stream",
          "name": "stdout",
          "text": [
            "First circle radius: 4\n",
            "First circle area: 50.26672\n",
            "Second circle radius: 5\n",
            "Second circle area: 78.54175\n",
            "Third circle radius: 9\n",
            "Third circle area: 254.47527\n"
          ]
        }
      ]
    },
    {
      "cell_type": "code",
      "source": [
        "#6\n",
        "class Triangle:\n",
        "  def __init__(self,base,height):\n",
        "    self.__base=base\n",
        "    self.__height=height\n",
        "  def getBase(self):\n",
        "    return self.__base\n",
        "  def getHeight(self):\n",
        "    return self.__height\n",
        "  def area(self):\n",
        "    a=0.5*self.__base*self.__height\n",
        "    return a\n",
        "  def __sub__(self,other):\n",
        "    return Triangle(self.__base-other.__base,self.__height-other.__height)\n",
        "\n",
        "\n",
        "\n",
        "\n",
        "\n",
        "\n",
        "t1 = Triangle(10, 5)\n",
        "print(\"First Triangle Base:\" , t1.getBase())\n",
        "print(\"First Triangle Height:\" , t1.getHeight())\n",
        "print(\"First Triangle area:\" ,t1.area())\n",
        " \n",
        "t2 = Triangle(5, 3)\n",
        "print(\"Second Triangle Base:\" , t2.getBase())\n",
        "print(\"Second Triangle Height:\" , t2.getHeight())\n",
        "print(\"Second Triangle area:\" ,t2.area())\n",
        " \n",
        "t3 = t1 - t2 \n",
        "print(\"Third Triangle Base:\" , t3.getBase())\n",
        "print(\"Third Triangle Height:\" , t3.getHeight())\n",
        "print(\"Third Triangle area:\" ,t3.area()) \n"
      ],
      "metadata": {
        "colab": {
          "base_uri": "https://localhost:8080/"
        },
        "id": "lCnO6KrZ51Y7",
        "outputId": "c9fb31e6-0e72-4e29-8f21-a1ca01e8283d"
      },
      "execution_count": null,
      "outputs": [
        {
          "output_type": "stream",
          "name": "stdout",
          "text": [
            "First Triangle Base: 10\n",
            "First Triangle Height: 5\n",
            "First Triangle area: 25.0\n",
            "Second Triangle Base: 5\n",
            "Second Triangle Height: 3\n",
            "Second Triangle area: 7.5\n",
            "Third Triangle Base: 5\n",
            "Third Triangle Height: 2\n",
            "Third Triangle area: 5.0\n"
          ]
        }
      ]
    },
    {
      "cell_type": "code",
      "source": [
        "#7\n",
        "class Dolls:\n",
        "  def __init__(self,name,price):\n",
        "    self.name=name\n",
        "    self.price=price\n",
        "  def detail(self):\n",
        "    return self.price\n",
        "  def __gt__(self,other):\n",
        "    if self.price>other.price :\n",
        "      return True \n",
        "      \n",
        "    elif self.price<other.price:\n",
        "      return False\n",
        "\n",
        "  def __add__(self,other):\n",
        "     \n",
        "     return Dolls(self.name+other.name,self.price+other.price)\n",
        "\n",
        "\n",
        "obj_1 = Dolls(\"Tweety\", 2500)\n",
        "print(obj_1.detail())\n",
        "if obj_1 > obj_1:\n",
        "    print(\"Congratulations! You get the Tweety as a gift!\")\n",
        "else:\n",
        "    print(\"Thank you!\")\n",
        "\n",
        "print(\"=========================\")\n",
        "obj_2 = Dolls(\"Daffy Duck\", 1800) \n",
        "print(obj_2.detail())\n",
        "if obj_2 > obj_1:\n",
        "    print(\"Congratulations! You get the Tweety as a gift!\")\n",
        "else:\n",
        "    print(\"Thank you!\")\n",
        "\n",
        "print(\"=========================\")\n",
        "obj_3 = Dolls(\"Bugs Bunny\", 3000)\n",
        "print(obj_3.detail())\n",
        "if obj_3 > obj_1:\n",
        "    print(\"Congratulations! You get the Tweety as a gift!\")\n",
        "else:\n",
        "    print(\"Thank you!\")\n",
        "\n",
        "print(\"=========================\")\n",
        "obj_4 = Dolls(\"Porky Pig\", 1500)\n",
        "print(obj_4.detail())\n",
        "if obj_4 > obj_1:\n",
        "    print(\"Congratulations! You get the Tweety as a gift!\")\n",
        "else:\n",
        "    print(\"Thank you!\")\n",
        "\n",
        "print(\"=========================\")\n",
        "obj_5 = obj_2 + obj_3\n",
        "print(obj_5.detail())\n",
        "if obj_5 > obj_1:\n",
        "    print(\"Congratulations! You get the Tweety as a gift!\")\n",
        "else:\n",
        "    print(\"Thank you!\")\n",
        "\n"
      ],
      "metadata": {
        "colab": {
          "base_uri": "https://localhost:8080/"
        },
        "id": "8LvD_BC-8FTT",
        "outputId": "6f97c99a-6843-4042-e6e4-67f9480a7ce3"
      },
      "execution_count": null,
      "outputs": [
        {
          "output_type": "stream",
          "name": "stdout",
          "text": [
            "2500\n",
            "Thank you!\n",
            "=========================\n",
            "1800\n",
            "Thank you!\n",
            "=========================\n",
            "3000\n",
            "Congratulations! You get the Tweety as a gift!\n",
            "=========================\n",
            "1500\n",
            "Thank you!\n",
            "=========================\n",
            "4800\n",
            "Congratulations! You get the Tweety as a gift!\n"
          ]
        }
      ]
    },
    {
      "cell_type": "markdown",
      "source": [
        "#8 \n",
        "class Coordinates:\n",
        "  def __init__(self,c,d):\n",
        "    self.c=c\n",
        "    self.d=d\n",
        "  def __sub__(self,other):\n",
        "    a=self.c-other.c,self.d-other.d\n",
        "    return a\n",
        "  def __mul__(self,other):\n",
        "    b=self.c*other.c,self.d*other.d\n",
        "    return b\n",
        "\n",
        "  def detail(self,other):\n",
        "    if  (self.c,self.d) == (other.c,other.d):\n",
        "      print(\"The calculated coordinates are NOT the same.\")\n",
        "    else :\n",
        "      print(\"The calculated coordinates are the same\")\n",
        "\n",
        "\n",
        "  \n",
        "\n",
        "\n",
        "\n",
        "\n",
        "\n",
        "\n",
        "\n",
        "\n",
        "p1 = Coordinates(int(input()),int(input()))\n",
        "p2 = Coordinates(int(input()),int(input()))\n",
        "\n",
        "p4 = p1 - p2 \n",
        "print(p4.detail())\n",
        "\n",
        "p5 = p1 * p2\n",
        "print(p5.detail())\n",
        "\n",
        "point_check = (p4 == p5)\n",
        "print(point_check)\n"
      ],
      "metadata": {
        "id": "DPyAx-PFCktM"
      }
    }
  ]
}