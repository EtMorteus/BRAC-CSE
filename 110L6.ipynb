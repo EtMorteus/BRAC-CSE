{
  "nbformat": 4,
  "nbformat_minor": 0,
  "metadata": {
    "colab": {
      "provenance": [],
      "authorship_tag": "ABX9TyPOdC3Rdycc1Z4VHOCQiSF5",
      "include_colab_link": true
    },
    "kernelspec": {
      "name": "python3",
      "display_name": "Python 3"
    },
    "language_info": {
      "name": "python"
    }
  },
  "cells": [
    {
      "cell_type": "markdown",
      "metadata": {
        "id": "view-in-github",
        "colab_type": "text"
      },
      "source": [
        "<a href=\"https://colab.research.google.com/github/EtMorteus/BRAC-CSE/blob/CSE110(Summer2023)/110L6.ipynb\" target=\"_parent\"><img src=\"https://colab.research.google.com/assets/colab-badge.svg\" alt=\"Open In Colab\"/></a>"
      ]
    },
    {
      "cell_type": "code",
      "execution_count": null,
      "metadata": {
        "colab": {
          "base_uri": "https://localhost:8080/"
        },
        "id": "Ldh5MprUx4Jz",
        "outputId": "26c5fc0d-d248-4918-f7ad-25fd6096badf"
      },
      "outputs": [
        {
          "output_type": "stream",
          "name": "stdout",
          "text": [
            "400\n"
          ]
        }
      ],
      "source": [
        "#1\n",
        "a_tuple = (\"The Institute\", (\"Best Mystery & Thriller\", \"The Silent Patient\", 68821), 75717,[1, 2, 3, 400, 5, 6, 7], (\"Best Fiction\", \"The Testaments\", 98291))\n",
        "print(a_tuple[3][3])"
      ]
    },
    {
      "cell_type": "code",
      "source": [
        "#2\n",
        "a=(10, 20, 24, 25, 26, 35, 70)\n",
        "print(a[2:-2])"
      ],
      "metadata": {
        "colab": {
          "base_uri": "https://localhost:8080/"
        },
        "id": "vvlSGuC3zKPJ",
        "outputId": "9f31b5b0-34cb-4c26-da4c-b2f3c2ccb18a"
      },
      "execution_count": null,
      "outputs": [
        {
          "output_type": "stream",
          "name": "stdout",
          "text": [
            "(24, 25, 26)\n"
          ]
        }
      ]
    },
    {
      "cell_type": "code",
      "source": [
        "#3\n",
        "book_info = (\n",
        "(\"Best Mystery & Thriller\",\"The Silent Patient\",68,821),\n",
        "(\"Best Horror\",\"The Institute\",75,717),\n",
        "(\"Best History & Biography\",\"The five\",31,783 ),\n",
        "(\"Best Fiction\",\"The Testaments\",98,291)\n",
        ")\n",
        "print(\"Size of tuple:\",len(book_info))\n",
        "for i in book_info:\n",
        "  print(i)\n"
      ],
      "metadata": {
        "colab": {
          "base_uri": "https://localhost:8080/"
        },
        "id": "a5UP73hS0lg9",
        "outputId": "58b26dc5-8286-45ba-b193-d8f7fa1411c4"
      },
      "execution_count": null,
      "outputs": [
        {
          "output_type": "stream",
          "name": "stdout",
          "text": [
            "Size of tuple: 4\n",
            "('Best Mystery & Thriller', 'The Silent Patient', 68, 821)\n",
            "('Best Horror', 'The Institute', 75, 717)\n",
            "('Best History & Biography', 'The five', 31, 783)\n",
            "('Best Fiction', 'The Testaments', 98, 291)\n"
          ]
        }
      ]
    },
    {
      "cell_type": "code",
      "source": [
        "#4\n",
        "book_info = (\n",
        "(\"Best Mystery & Thriller\",\"The Silent Patient\",68821),\n",
        "(\"Best Horror\",\"The Institute\",75717),\n",
        "(\"Best History & Biography\",\"The five\",31783 ),\n",
        "(\"Best Fiction\",\"The Testaments\",98291)\n",
        ")\n",
        "a,b,c,d=book_info\n",
        "for i in a,b,c,d :\n",
        "  print(f\"{i[1]} won '{i[0]}' with {i[2]} votes\")"
      ],
      "metadata": {
        "id": "NsuxR7Bo2B1_",
        "colab": {
          "base_uri": "https://localhost:8080/"
        },
        "outputId": "6c7c7617-2889-4c11-a450-d700661eafc8"
      },
      "execution_count": null,
      "outputs": [
        {
          "output_type": "stream",
          "name": "stdout",
          "text": [
            "The Silent Patient won 'Best Mystery & Thriller' with 68821 votes\n",
            "The Institute won 'Best Horror' with 75717 votes\n",
            "The five won 'Best History & Biography' with 31783 votes\n",
            "The Testaments won 'Best Fiction' with 98291 votes\n"
          ]
        }
      ]
    },
    {
      "cell_type": "code",
      "source": [
        "#6\n",
        "a= ('a','b','c','d','e','f','g','h')\n",
        "b=[]\n",
        "for i in range(len(a)-1,-1,-1):\n",
        "  b.append(a[i])\n",
        "print(tuple(b))"
      ],
      "metadata": {
        "colab": {
          "base_uri": "https://localhost:8080/"
        },
        "id": "W0oN-MHo8vqd",
        "outputId": "27bf3c1d-965f-4349-8e98-84432bb344c0"
      },
      "execution_count": null,
      "outputs": [
        {
          "output_type": "stream",
          "name": "stdout",
          "text": [
            "('h', 'g', 'f', 'e', 'd', 'c', 'b', 'a')\n"
          ]
        }
      ]
    },
    {
      "cell_type": "code",
      "source": [
        "#7\n",
        "a={'Harry':15, 'Draco':8, 'Nevil':19}\n",
        "b={'Ginie':18, 'Luna': 14}\n",
        "c=a | b\n",
        "print(c)"
      ],
      "metadata": {
        "colab": {
          "base_uri": "https://localhost:8080/"
        },
        "id": "ArrNvbsA_j-n",
        "outputId": "6c2aef3c-d78b-4411-af60-dd7338174c22"
      },
      "execution_count": null,
      "outputs": [
        {
          "output_type": "stream",
          "name": "stdout",
          "text": [
            "{'Harry': 15, 'Draco': 8, 'Nevil': 19, 'Ginie': 18, 'Luna': 14}\n"
          ]
        }
      ]
    },
    {
      "cell_type": "code",
      "source": [
        "#8\n",
        "a={}\n",
        "b=int(input(\"Enter Size:\"))\n",
        "c=0\n",
        "avg=0\n",
        "while c<b:\n",
        "  key=input(\"Key:\")\n",
        "  value=input(\"Value:\")\n",
        "  a[key]=value\n",
        "  c+=1\n",
        "for value in a.values():\n",
        "  avg+=int(value)//b\n",
        "print(\"The average is\",avg)"
      ],
      "metadata": {
        "colab": {
          "base_uri": "https://localhost:8080/"
        },
        "id": "TXU9lRVKBlqf",
        "outputId": "02bd140c-186d-40cc-ee46-0ec1eff82e4f"
      },
      "execution_count": null,
      "outputs": [
        {
          "output_type": "stream",
          "name": "stdout",
          "text": [
            "Enter Size:3\n",
            "Key:kk\n",
            "Value:100\n",
            "Key:bb\n",
            "Value:200\n",
            "Key:cc\n",
            "Value:300\n",
            "The average is 200.0\n"
          ]
        }
      ]
    },
    {
      "cell_type": "code",
      "source": [
        "#9\n",
        "e= {'Cierra Vega': 175, 'Alden Cantrell': 200, 'Kierra Gentry': 165, 'Pierre Cox': 190}\n",
        "x=int(input())\n",
        "y={}\n",
        "for i,j in e.items():\n",
        "  if int(j)>x:\n",
        "    y.update({i:j})\n",
        "print(y)\n"
      ],
      "metadata": {
        "colab": {
          "base_uri": "https://localhost:8080/"
        },
        "id": "hbuKyseLzoAS",
        "outputId": "cb86d73e-1ca8-4a29-92b1-68ddeff1808d"
      },
      "execution_count": 25,
      "outputs": [
        {
          "output_type": "stream",
          "name": "stdout",
          "text": [
            "170\n",
            "{'Cierra Vega': 175, 'Alden Cantrell': 200, 'Pierre Cox': 190}\n"
          ]
        }
      ]
    },
    {
      "cell_type": "code",
      "source": [
        "#10\n",
        "a={'sci fi': 12, 'mystery': 15, 'horror': 8, 'mythology': 10, 'young_adult': 4, 'adventure':14}\n",
        "x=0\n",
        "for i,j in a.items():\n",
        "  if j>x:\n",
        "    x=j\n",
        "    t=i\n",
        "print(f'The highest selling book genre is \"{t}\" and the number of books sold are {x}.')\n",
        "\n",
        "\n",
        "\n",
        "\n",
        "\n"
      ],
      "metadata": {
        "colab": {
          "base_uri": "https://localhost:8080/"
        },
        "id": "tNC1qh5fzn_J",
        "outputId": "6bc0ffd7-f0ea-422f-d37c-77f6ed5c00d4"
      },
      "execution_count": 6,
      "outputs": [
        {
          "output_type": "stream",
          "name": "stdout",
          "text": [
            "The highest selling book genre is \"mystery\" and the number of books sold are 15.\n"
          ]
        }
      ]
    },
    {
      "cell_type": "code",
      "source": [
        "#11\n",
        "x=input().lower().replace(' ','')\n",
        "y={}\n",
        "for i in x:\n",
        "  if i in y:\n",
        "    y[i]+=1\n",
        "  else:\n",
        "    y[i]=1\n",
        "print(y)\n",
        "\n",
        "\n",
        "\n",
        "\n",
        "\n"
      ],
      "metadata": {
        "colab": {
          "base_uri": "https://localhost:8080/"
        },
        "id": "B73L9hBB9bqF",
        "outputId": "ee1ed62b-ac3a-4560-839e-3d0519f8aa18"
      },
      "execution_count": 40,
      "outputs": [
        {
          "output_type": "stream",
          "name": "stdout",
          "text": [
            "Python programming is fun\n",
            "{'p': 2, 'y': 1, 't': 1, 'h': 1, 'o': 2, 'n': 3, 'r': 2, 'g': 2, 'a': 1, 'm': 2, 'i': 2, 's': 1, 'f': 1, 'u': 1}\n"
          ]
        }
      ]
    },
    {
      "cell_type": "code",
      "source": [
        "#12\n",
        "dict_1 = {'A': [1, 2, 3], 'b': ['1', '2'], \"c\": [4, 5, 6, 7]}\n",
        "c=0\n",
        "for i,j in dict_1.items() :\n",
        "  for k in j:\n",
        "    c+=1\n",
        "print(c)"
      ],
      "metadata": {
        "colab": {
          "base_uri": "https://localhost:8080/"
        },
        "id": "J5-1b1LJKcv5",
        "outputId": "a9597127-2470-4879-ced0-c970ca2b98f8"
      },
      "execution_count": 18,
      "outputs": [
        {
          "output_type": "stream",
          "name": "stdout",
          "text": [
            "9\n"
          ]
        }
      ]
    },
    {
      "cell_type": "code",
      "source": [
        "#13\n",
        "list_1 = [(\"a\", 1), (\"b\", 2), (\"a\", 3), (\"b\", 1), (\"a\", 2), (\"c\", 1)]\n",
        "x={}\n",
        "for i,j in list_1:\n",
        "  if i in x:\n",
        "   x[i].append(j)\n",
        "  else:\n",
        "   x[i]=[j]\n",
        "print(x)"
      ],
      "metadata": {
        "colab": {
          "base_uri": "https://localhost:8080/"
        },
        "id": "a6tkGl8dLRzU",
        "outputId": "13c661a8-daf2-4eae-9769-df8dcddbe4ad"
      },
      "execution_count": 38,
      "outputs": [
        {
          "output_type": "stream",
          "name": "stdout",
          "text": [
            "{'a': [1, 3, 2], 'b': [2, 1], 'c': [1]}\n"
          ]
        }
      ]
    }
  ]
}