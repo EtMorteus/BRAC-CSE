{
  "nbformat": 4,
  "nbformat_minor": 0,
  "metadata": {
    "colab": {
      "provenance": [],
      "authorship_tag": "ABX9TyPKMkLrJ38pSCVzEf8AKY7u",
      "include_colab_link": true
    },
    "kernelspec": {
      "name": "python3",
      "display_name": "Python 3"
    },
    "language_info": {
      "name": "python"
    }
  },
  "cells": [
    {
      "cell_type": "markdown",
      "metadata": {
        "id": "view-in-github",
        "colab_type": "text"
      },
      "source": [
        "<a href=\"https://colab.research.google.com/github/EtMorteus/BRAC-CSE/blob/CSE110(Summer2023)/110L2.ipynb\" target=\"_parent\"><img src=\"https://colab.research.google.com/assets/colab-badge.svg\" alt=\"Open In Colab\"/></a>"
      ]
    },
    {
      "cell_type": "code",
      "execution_count": null,
      "metadata": {
        "colab": {
          "base_uri": "https://localhost:8080/"
        },
        "id": "BVNBN2sMuip6",
        "outputId": "a8bc7936-0cfd-4083-e19f-239f7fe3e524"
      },
      "outputs": [
        {
          "output_type": "stream",
          "name": "stdout",
          "text": [
            "12\n",
            "5\n",
            "Product:60\n",
            "Sum:17\n",
            "Difference:7\n"
          ]
        }
      ],
      "source": [
        "#task 1\n",
        "m=int(input())\n",
        "n=int(input())\n",
        "print(f\"Product:{m*n}\\nSum:{m+n}\\nDifference:{m-n}\")"
      ]
    },
    {
      "cell_type": "code",
      "source": [
        "#2\n",
        "import math\n",
        "r=int(input())\n",
        "c=2*math.pi*r\n",
        "a=math.pi*r**2\n",
        "print(f\"Circumference:{c}\\nArea:{a}\")"
      ],
      "metadata": {
        "colab": {
          "base_uri": "https://localhost:8080/"
        },
        "id": "eG1PY_pJw4Bk",
        "outputId": "bea52ba3-ebe8-4cdc-eab9-c4a134a77414"
      },
      "execution_count": null,
      "outputs": [
        {
          "output_type": "stream",
          "name": "stdout",
          "text": [
            "5\n",
            "Circumference:31.41592653589793\n",
            "Area:78.53981633974483\n"
          ]
        }
      ]
    },
    {
      "cell_type": "code",
      "source": [
        "#3\n",
        "m=int(input())\n",
        "n=int(input())\n",
        "if m>n:\n",
        "  print(\"First is greater\")\n",
        "else:\n",
        "  print(\"Second is grater\")"
      ],
      "metadata": {
        "colab": {
          "base_uri": "https://localhost:8080/"
        },
        "id": "A8zxqVDLxr3q",
        "outputId": "5944a47d-2e7b-40dd-d234-720c9c94e96a"
      },
      "execution_count": null,
      "outputs": [
        {
          "output_type": "stream",
          "name": "stdout",
          "text": [
            "9\n",
            "7\n",
            "First is greater\n"
          ]
        }
      ]
    },
    {
      "cell_type": "code",
      "source": [
        "#4\n",
        "m=int(input())\n",
        "n=int(input())\n",
        "if m>n:\n",
        "  s=m-n\n",
        "else:\n",
        "  s=n-m\n",
        "print(s)"
      ],
      "metadata": {
        "colab": {
          "base_uri": "https://localhost:8080/"
        },
        "id": "K7SeoQ_PyHnx",
        "outputId": "db8fed2f-eed6-4ec0-d5ac-1f0a28a96109"
      },
      "execution_count": null,
      "outputs": [
        {
          "output_type": "stream",
          "name": "stdout",
          "text": [
            "88\n",
            "55\n",
            "33\n"
          ]
        }
      ]
    },
    {
      "cell_type": "code",
      "source": [
        "#5\n",
        "m=int(input())\n",
        "if m%2==0:\n",
        "  print(\"The number is even\")\n",
        "else:\n",
        "  print(\"The number is odd\")"
      ],
      "metadata": {
        "colab": {
          "base_uri": "https://localhost:8080/"
        },
        "id": "-3vufwsuybgV",
        "outputId": "a7b77284-2b19-457b-f5ff-09075643df66"
      },
      "execution_count": null,
      "outputs": [
        {
          "output_type": "stream",
          "name": "stdout",
          "text": [
            "10\n",
            "The number is even\n"
          ]
        }
      ]
    },
    {
      "cell_type": "code",
      "source": [
        "#6\n",
        "m=int(input())\n",
        "if m%2==0 and m%5==0:\n",
        "  print(\"The number is a multiple of 2 or 5\")\n",
        "else:\n",
        "  print(\"The number is not a multiple of 2 or 5\")"
      ],
      "metadata": {
        "colab": {
          "base_uri": "https://localhost:8080/"
        },
        "id": "a1PtxKraytDq",
        "outputId": "975e31e8-38f1-480d-ccc4-d080c4529ece"
      },
      "execution_count": null,
      "outputs": [
        {
          "output_type": "stream",
          "name": "stdout",
          "text": [
            "20\n",
            "The number is a multiple of 2 or 5\n"
          ]
        }
      ]
    },
    {
      "cell_type": "code",
      "source": [
        "#7\n",
        "m=int(input())\n",
        "if m%2==0:\n",
        "  print(\"The number is a multiple of 2\")\n",
        "elif m%5==0:\n",
        "  print(\"The number is not a multiple of 5\")\n",
        "elif m%2==0 and m%5==0:\n",
        "  print(\"The number is a multiple of 2 and 5\")\n",
        "else:\n",
        "  print(\"Not a multiple we want\")"
      ],
      "metadata": {
        "colab": {
          "base_uri": "https://localhost:8080/"
        },
        "id": "yakPSy2uy9eQ",
        "outputId": "2a8d7925-f6ea-486e-d03c-f1fcdffcb513"
      },
      "execution_count": null,
      "outputs": [
        {
          "output_type": "stream",
          "name": "stdout",
          "text": [
            "6\n",
            "The number is a multiple of 2\n"
          ]
        }
      ]
    },
    {
      "cell_type": "code",
      "source": [
        "#8\n",
        "m=int(input())\n",
        "if m%2==0 and m%5==0:\n",
        "  print(\"The number is a multiple of 2 or 5\")\n",
        "else:\n",
        "  print(\"The number is not a multiple of 2 or 5 both\")"
      ],
      "metadata": {
        "colab": {
          "base_uri": "https://localhost:8080/"
        },
        "id": "Sm-YU0cMz-bZ",
        "outputId": "f5cdeaae-d72e-4f74-e520-8f399eb87d1d"
      },
      "execution_count": null,
      "outputs": [
        {
          "output_type": "stream",
          "name": "stdout",
          "text": [
            "15\n",
            "The number is not a multiple of 2 or 5 both\n"
          ]
        }
      ]
    },
    {
      "cell_type": "code",
      "source": [
        "#9\n",
        "m=int(input())\n",
        "print(f\"{m//3600} Hours {m%3600//60%60} Seconds\")"
      ],
      "metadata": {
        "colab": {
          "base_uri": "https://localhost:8080/"
        },
        "id": "RA-AEaXp0CtL",
        "outputId": "f2cacf98-9988-407c-abab-0ae2dfb22cc1"
      },
      "execution_count": null,
      "outputs": [
        {
          "output_type": "stream",
          "name": "stdout",
          "text": [
            "10000\n",
            "2 Hours 46 Seconds\n"
          ]
        }
      ]
    },
    {
      "cell_type": "code",
      "source": [
        "#10\n",
        "m=int(input(\"Enter working hours:\"))\n",
        "if m>=40:\n",
        "  s=8000+(m-40)*300\n",
        "  print(f\"The salary is {s}\")\n",
        "elif m<=30:\n",
        "  s=m*200\n",
        "  print(f\"The salary is {s}\")\n",
        "elif m<0 :\n",
        "  print(\"Hours Can't Be Negative\")"
      ],
      "metadata": {
        "colab": {
          "base_uri": "https://localhost:8080/"
        },
        "id": "EyQr4JVU1h9Y",
        "outputId": "f1064189-2af4-4d55-c57e-cf7ca709860a"
      },
      "execution_count": null,
      "outputs": [
        {
          "output_type": "stream",
          "name": "stdout",
          "text": [
            "Enter working hours:100\n",
            "The salary is 26000\n"
          ]
        }
      ]
    },
    {
      "cell_type": "code",
      "source": [
        "#11\n",
        "m=int(input())\n",
        "if m>=100:\n",
        "  l=12000/(4+m**2/14900)\n",
        "elif m<100:\n",
        "  l=3000-(125*m**2)\n",
        "print(l)"
      ],
      "metadata": {
        "colab": {
          "base_uri": "https://localhost:8080/"
        },
        "id": "flZVbKSu37_e",
        "outputId": "1710075c-c3da-4773-fa49-91ee1c34502f"
      },
      "execution_count": null,
      "outputs": [
        {
          "output_type": "stream",
          "name": "stdout",
          "text": [
            "120\n",
            "2416.2162162162163\n"
          ]
        }
      ]
    },
    {
      "cell_type": "code",
      "source": [
        "#12\n",
        "m=int(input())\n",
        "if m>=4 and m<=6:\n",
        "  print(\"Breakfast\")\n",
        "elif m>=12 and m<=13:\n",
        "  print(\"Lunch\")\n",
        "elif m>=16 and m<=17:\n",
        "  print(\"Snack\")\n",
        "elif m>=19 and m<=20:\n",
        "  print(\"Dinner\")\n",
        "elif m<0:\n",
        "  print(\"Invalid time\")\n",
        "else:\n",
        "  print(\"Patience is a virtue\")"
      ],
      "metadata": {
        "colab": {
          "base_uri": "https://localhost:8080/"
        },
        "id": "2wc5BRSR4trw",
        "outputId": "4b7138bd-8d93-4eef-fe64-389162925e5f"
      },
      "execution_count": null,
      "outputs": [
        {
          "output_type": "stream",
          "name": "stdout",
          "text": [
            "12\n",
            "Lunch\n"
          ]
        }
      ]
    },
    {
      "cell_type": "code",
      "source": [
        "#13\n",
        "m=int(input())\n",
        "if m>=90:\n",
        "  print(\"A\")\n",
        "elif m>=80 and m<=89:\n",
        "  print(\"B\")\n",
        "elif m>=70 and m<=79:\n",
        "  print(\"C\")\n",
        "elif m>=60 and m<=69:\n",
        "  print(\"D\")\n",
        "elif m>=50 and m<=59:\n",
        "  print(\"E\")\n",
        "elif m<50:\n",
        "  print(\"F\")"
      ],
      "metadata": {
        "colab": {
          "base_uri": "https://localhost:8080/"
        },
        "id": "RG6W7yOS6DlV",
        "outputId": "f895f1af-6b52-4f68-a565-7d6cd9269240"
      },
      "execution_count": null,
      "outputs": [
        {
          "output_type": "stream",
          "name": "stdout",
          "text": [
            "77\n",
            "C\n"
          ]
        }
      ]
    },
    {
      "cell_type": "code",
      "source": [
        "#14\n",
        "m=int(input())\n",
        "n=int(input())\n",
        "s=(m/1000)/(n//3600)\n",
        "if s<60:\n",
        "  print(\"Too slow. Needs more changes.\")\n",
        "elif s>=60 and s<=90:\n",
        "  print(\"Velocity is okay. The car is ready!\")\n",
        "elif s>90:\n",
        "  print(\"Too fast. Only a few changes should suffice.\")"
      ],
      "metadata": {
        "colab": {
          "base_uri": "https://localhost:8080/"
        },
        "id": "Q03ESpWx6ruO",
        "outputId": "e08d6f5c-91c4-4c46-c699-85205ac76529"
      },
      "execution_count": null,
      "outputs": [
        {
          "output_type": "stream",
          "name": "stdout",
          "text": [
            "160000\n",
            "7200\n",
            "Velocity is okay. The car is ready!\n"
          ]
        }
      ]
    },
    {
      "cell_type": "code",
      "source": [
        "#15\n",
        "m=float(input(\"CG:\"))\n",
        "n=int(input(\"Credit:\"))\n",
        "if n<30:\n",
        "  print(\"Non Eligible\")\n",
        "else:\n",
        "  if m>=3.80 and m<=3.89:\n",
        "    print(\"25 percent\")\n",
        "  elif m>=3.90 and m<=3.94:\n",
        "    print(\"50 percent\")\n",
        "  elif m>=3.96 and m<=3.99:\n",
        "    print(\"75 percent\")\n",
        "  elif m==4.00:\n",
        "    print(\"100 percent\")\n",
        "  else :\n",
        "    print(\"Not Eligible\")\n"
      ],
      "metadata": {
        "colab": {
          "base_uri": "https://localhost:8080/"
        },
        "id": "OUJOExuu7_qs",
        "outputId": "7870291f-c882-4a60-a702-9c7f5b41ea48"
      },
      "execution_count": null,
      "outputs": [
        {
          "output_type": "stream",
          "name": "stdout",
          "text": [
            "CG:3.89\n",
            "Credit:24\n",
            "Non Eligible\n"
          ]
        }
      ]
    }
  ]
}