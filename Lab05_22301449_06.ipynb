{
  "nbformat": 4,
  "nbformat_minor": 0,
  "metadata": {
    "colab": {
      "provenance": [],
      "authorship_tag": "ABX9TyOo33Gahp/vmjfInsQz8e48",
      "include_colab_link": true
    },
    "kernelspec": {
      "name": "python3",
      "display_name": "Python 3"
    },
    "language_info": {
      "name": "python"
    }
  },
  "cells": [
    {
      "cell_type": "markdown",
      "metadata": {
        "id": "view-in-github",
        "colab_type": "text"
      },
      "source": [
        "<a href=\"https://colab.research.google.com/github/EtMorteus/BRAC-CSE/blob/CSE220(Fall2022)/Lab05_22301449_06.ipynb\" target=\"_parent\"><img src=\"https://colab.research.google.com/assets/colab-badge.svg\" alt=\"Open In Colab\"/></a>"
      ]
    },
    {
      "cell_type": "code",
      "execution_count": null,
      "metadata": {
        "colab": {
          "base_uri": "https://localhost:8080/"
        },
        "id": "9bq77EN7Xlhy",
        "outputId": "d64d0674-285e-4b15-b006-4f65df9dc399"
      },
      "outputs": [
        {
          "output_type": "stream",
          "name": "stdout",
          "text": [
            "1+2*(3/4)\n",
            "This expression is correct.\n"
          ]
        }
      ],
      "source": [
        "class StackArray:\n",
        "  def __init__(self):\n",
        "   self.array=[0]*10\n",
        "   self.top=-1\n",
        "  def push(self,element):\n",
        "    if self.top<9:\n",
        "      self.top=+1\n",
        "      self.array[self.top]=element\n",
        "    else:\n",
        "      print(\"Stack overflow\")\n",
        "  def peek(self):\n",
        "    if self.top!=-1:\n",
        "      return self.array[self.top]\n",
        "  def pop(self):\n",
        "    if self.top>-1:\n",
        "     a=self.array[self.top]\n",
        "     self.array[self.top]==0\n",
        "     self.top=-1\n",
        "    return a\n",
        "  def isEmpty(self):\n",
        "    return self.top==-1\n",
        "\n",
        "inp=input()\n",
        "b=StackArray()\n",
        "ob=[\"(\",\"[\",\"{\"]\n",
        "cb=[\")\",\"]\",\"}\"]\n",
        "c=StackArray()\n",
        "d=True\n",
        "for i in range(len(inp)):\n",
        "  if inp[i] in ob:\n",
        "    b.push(inp[i])\n",
        "    c.push(i)\n",
        "  elif inp[i]==')':\n",
        "    if b.peek()=='(':\n",
        "      b.pop()\n",
        "      c.pop()\n",
        "    else:\n",
        "      \n",
        "      print(\"Error At Charecter  #\" ,i,inp[i],\"not closed\")\n",
        "      d==False\n",
        "      break\n",
        "  elif inp[i]=='}':\n",
        "    if b.peek()=='{':\n",
        "      b.pop()\n",
        "      c.pop()\n",
        "    else:\n",
        "       \n",
        "       print(\"Error At Charecter\",i,inp[i],\"not closed\")\n",
        "       d==False\n",
        "       break\n",
        "  elif inp[i]==']':\n",
        "    if b.peek()=='[':\n",
        "      b.pop()\n",
        "      c.pop()\n",
        "    else:\n",
        "    \n",
        "       print(\"Error At Charecter  #\" ,i,inp[i],\"not closed\")\n",
        "       d==False\n",
        "       break\n",
        "  \n",
        "if b.top<0:\n",
        "  print(\"This expression is correct.\")\n",
        "else:\n",
        "  print(\"This Expression is incorrect\")"
      ]
    },
    {
      "cell_type": "code",
      "source": [
        "class Node:\n",
        "  def __init__(self, element):\n",
        "    self.element = element\n",
        "    self.next = None\n",
        "\n",
        "class Stack:\n",
        "    def __init__(self):\n",
        "        self.head=None\n",
        "\n",
        "    def pop(self):\n",
        "        if self.head==None:\n",
        "          return \"Stack invalid\"\n",
        "        else:\n",
        "         removal = self.head.element\n",
        "         self.head = self.head.next\n",
        "         return removal\n",
        "\n",
        "    def push(self,element):\n",
        "        if self.head==None:\n",
        "            self.head=Node(element)\n",
        "        else:\n",
        "            new=Node(element)\n",
        "            new.next=self.head\n",
        "            self.head=new\n",
        "    \n",
        "    def peek(self):\n",
        "      if self.head==None:\n",
        "          return None\n",
        "      else:\n",
        "        return self.head.element\n",
        "\n",
        "a=input()\n",
        "temp1=Stack()\n",
        "temp2=Stack()\n",
        "ob=['[', '{', '(']\n",
        "op = [']', '}', ')']\n",
        "\n",
        "def check(a):\n",
        "  for i in range(len(a)):\n",
        "        if a[i]==\"(\" or a[i]==\"{\" or a[i]==\"[\":\n",
        "            temp1.push(a[i])\n",
        "            temp2.push(i)           \n",
        "        elif a[i]==\")\" or a[i]==\"}\" or a[i]==\"]\":\n",
        "            for p in range(len(op)):\n",
        "                if op[p] == a[i]:\n",
        "                    pointer = p\n",
        "            if (temp1.head != None):\n",
        "                if (ob[pointer]==temp1.head.element):\n",
        "                    temp1.pop()\n",
        "                    temp2.pop()\n",
        "                else:\n",
        "                    variable = temp2.pop()\n",
        "                    return f\"This expression is incorrect.\\nError at character # {int(variable)+1}.'{temp1.head.element}' is not closed\"\n",
        "            else:\n",
        "                return f\"This expression is incorrect.\\nError at character # {i+1}. '{a[i]}'is not opened \"\n",
        "\n",
        "\n",
        "  if temp1.head == None :\n",
        "      return \"This expression is correct.\"\n",
        "  else:\n",
        "      variable = temp2.pop()\n",
        "      return  f\"This expression is incorrect.\\nError at character # {int(variable)+1}.'{temp1.head.element}'is not closed\"\n",
        "x=check(a)\n",
        "print(x)"
      ],
      "metadata": {
        "colab": {
          "base_uri": "https://localhost:8080/"
        },
        "id": "AvNOFOiNkYVu",
        "outputId": "f28bdfcf-398c-4ffc-cb4b-36ed31547546"
      },
      "execution_count": null,
      "outputs": [
        {
          "output_type": "stream",
          "name": "stdout",
          "text": [
            "1+2*[3*3+{4–5(6(7/8/9)+10)–11+(12*8)]+14\n",
            "This expression is incorrect.\n",
            "Error at character # 10.'{' is not closed\n"
          ]
        }
      ]
    }
  ]
}