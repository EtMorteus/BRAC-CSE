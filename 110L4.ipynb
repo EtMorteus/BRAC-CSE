{
  "nbformat": 4,
  "nbformat_minor": 0,
  "metadata": {
    "colab": {
      "provenance": [],
      "authorship_tag": "ABX9TyMlb+27lkdmuPTaQbcFwOPe",
      "include_colab_link": true
    },
    "kernelspec": {
      "name": "python3",
      "display_name": "Python 3"
    },
    "language_info": {
      "name": "python"
    }
  },
  "cells": [
    {
      "cell_type": "markdown",
      "metadata": {
        "id": "view-in-github",
        "colab_type": "text"
      },
      "source": [
        "<a href=\"https://colab.research.google.com/github/EtMorteus/BRAC-CSE/blob/CSE110(Summer2023)/110L4.ipynb\" target=\"_parent\"><img src=\"https://colab.research.google.com/assets/colab-badge.svg\" alt=\"Open In Colab\"/></a>"
      ]
    },
    {
      "cell_type": "code",
      "execution_count": null,
      "metadata": {
        "colab": {
          "base_uri": "https://localhost:8080/"
        },
        "id": "m-dz0QHRuJhO",
        "outputId": "ee962ebd-7221-41be-d473-7ddb4ddc2215"
      },
      "outputs": [
        {
          "output_type": "stream",
          "name": "stdout",
          "text": [
            "cse110\n",
            "011esc\n"
          ]
        }
      ],
      "source": [
        "#1\n",
        "x=input()\n",
        "print(x[::-1])"
      ]
    },
    {
      "cell_type": "code",
      "source": [
        "#2\n",
        "x=input()\n",
        "y=int(input())\n",
        "x1=x[:y+1]\n",
        "y1=x[y+1:]\n",
        "z=\"\"\n",
        "for i in range(1,len(x1)+1):\n",
        "  z+=x1[-i]\n",
        "print(z+y1)"
      ],
      "metadata": {
        "colab": {
          "base_uri": "https://localhost:8080/"
        },
        "id": "EF8LQZKNvLGf",
        "outputId": "be9daf33-4428-4ca2-d758-d1d1054550ae"
      },
      "execution_count": null,
      "outputs": [
        {
          "output_type": "stream",
          "name": "stdout",
          "text": [
            "123345\n",
            "3\n",
            "332145\n"
          ]
        }
      ]
    },
    {
      "cell_type": "code",
      "source": [
        "#3\n",
        "x=input()\n",
        "for i in x:\n",
        "  if i=='0' or i=='1':\n",
        "    z=\"Binary\"\n",
        "  else:\n",
        "    z=\"Not binary\"\n",
        "print(z)"
      ],
      "metadata": {
        "colab": {
          "base_uri": "https://localhost:8080/"
        },
        "id": "vQzAeZ2p2YwX",
        "outputId": "5adc47d5-c315-4af4-ea2e-37a1ad3238a5"
      },
      "execution_count": null,
      "outputs": [
        {
          "output_type": "stream",
          "name": "stdout",
          "text": [
            "1232\n",
            "Not binary\n"
          ]
        }
      ]
    },
    {
      "cell_type": "code",
      "source": [
        "#4\n",
        "x=input()\n",
        "y=len(x)\n",
        "if y>3:\n",
        "  if x.endswith('er'):\n",
        "    z=x.replace(\"er\",\"est\")\n",
        "    print(z)\n",
        "  elif x.endswith(\"est\"):\n",
        "    print(x)\n",
        "  else:\n",
        "    print(x+\"er\")\n",
        "else:\n",
        " print(x)\n",
        "\n"
      ],
      "metadata": {
        "colab": {
          "base_uri": "https://localhost:8080/"
        },
        "id": "VWWE0HXpK9vr",
        "outputId": "bd6d03d1-2b19-48f6-d82e-cc3302e6d0e1"
      },
      "execution_count": null,
      "outputs": [
        {
          "output_type": "stream",
          "name": "stdout",
          "text": [
            "strong\n",
            "stronger\n"
          ]
        }
      ]
    },
    {
      "cell_type": "code",
      "source": [
        "#5\n",
        "x=input()\n",
        "for i in range(len(x)):\n",
        "  for i in range(0,i+1):\n",
        "    print(x[i],end=\"\")"
      ],
      "metadata": {
        "colab": {
          "base_uri": "https://localhost:8080/"
        },
        "id": "b8sITwpxUEH0",
        "outputId": "f667a06f-c935-4f61-9cc8-d6f5609c84a6"
      },
      "execution_count": 72,
      "outputs": [
        {
          "output_type": "stream",
          "name": "stdout",
          "text": [
            "bangla\n",
            "bbabanbangbanglbangla"
          ]
        }
      ]
    },
    {
      "cell_type": "code",
      "source": [
        "#6\n",
        "x=input()\n",
        "for i in x:\n",
        "  print(f\"{i}:{ord(i)}\")"
      ],
      "metadata": {
        "colab": {
          "base_uri": "https://localhost:8080/"
        },
        "id": "DXJGz9alY37F",
        "outputId": "10ac58ee-02bf-40cd-dfff-11a5cb53f559"
      },
      "execution_count": null,
      "outputs": [
        {
          "output_type": "stream",
          "name": "stdout",
          "text": [
            "program\n",
            "p:112\n",
            "r:114\n",
            "o:111\n",
            "g:103\n",
            "r:114\n",
            "a:97\n",
            "m:109\n"
          ]
        }
      ]
    },
    {
      "cell_type": "code",
      "source": [
        "#7\n",
        "x=input()\n",
        "for i in x:\n",
        "  i=ord(i)+1\n",
        "  if i>122:\n",
        "    i=97\n",
        "\n",
        "  print(chr(i),end='')"
      ],
      "metadata": {
        "colab": {
          "base_uri": "https://localhost:8080/"
        },
        "id": "m0OvLe7lzN1r",
        "outputId": "e4026453-f870-4848-ca6b-c01b1a043986"
      },
      "execution_count": null,
      "outputs": [
        {
          "output_type": "stream",
          "name": "stdout",
          "text": [
            "xyzabc\n",
            "yzabcd"
          ]
        }
      ]
    },
    {
      "cell_type": "code",
      "source": [
        "#8\n",
        "x=input()\n",
        "s=''\n",
        "for i in range(len(x)):\n",
        "  if i%2!=0:\n",
        "   s=ord(x[i])\n",
        "   print(chr(s-32), end=\"\")"
      ],
      "metadata": {
        "colab": {
          "base_uri": "https://localhost:8080/"
        },
        "id": "mg7JWzWf1JM6",
        "outputId": "ecc43c40-1682-4bad-e82e-888db30ac133"
      },
      "execution_count": null,
      "outputs": [
        {
          "output_type": "stream",
          "name": "stdout",
          "text": [
            "string\n",
            "TIG"
          ]
        }
      ]
    },
    {
      "cell_type": "code",
      "source": [
        "#9\n",
        "x=input()\n",
        "y=\"\"\n",
        "for i in x:\n",
        "  if i not in y:\n",
        "    y+=i\n",
        "print(y)"
      ],
      "metadata": {
        "id": "bhq3oepA8vQT",
        "colab": {
          "base_uri": "https://localhost:8080/"
        },
        "outputId": "81e4ae22-30cf-4a04-e0d8-06d1863bfe54"
      },
      "execution_count": 62,
      "outputs": [
        {
          "output_type": "stream",
          "name": "stdout",
          "text": [
            "jabbathehutt\n",
            "jabtheu\n"
          ]
        }
      ]
    },
    {
      "cell_type": "code",
      "source": [
        "#10\n",
        "x=input()\n",
        "y=input()\n",
        "z=''\n",
        "for i in range(len(x)):\n",
        "  z+=x[i]+y[i]\n",
        "print(z)\n"
      ],
      "metadata": {
        "colab": {
          "base_uri": "https://localhost:8080/"
        },
        "id": "4ci4enxEAwdO",
        "outputId": "77a5b1d3-2d15-4b31-c57c-e8b1f0a68015"
      },
      "execution_count": 65,
      "outputs": [
        {
          "output_type": "stream",
          "name": "stdout",
          "text": [
            "ligma\n",
            "balls\n",
            "lbiaglmlas\n"
          ]
        }
      ]
    }
  ]
}