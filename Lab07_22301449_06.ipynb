{
  "nbformat": 4,
  "nbformat_minor": 0,
  "metadata": {
    "colab": {
      "provenance": [],
      "authorship_tag": "ABX9TyNaFJZBS4sjBP70ZAUVr5io",
      "include_colab_link": true
    },
    "kernelspec": {
      "name": "python3",
      "display_name": "Python 3"
    },
    "language_info": {
      "name": "python"
    }
  },
  "cells": [
    {
      "cell_type": "markdown",
      "metadata": {
        "id": "view-in-github",
        "colab_type": "text"
      },
      "source": [
        "<a href=\"https://colab.research.google.com/github/EtMorteus/BRAC-CSE/blob/CSE220(Fall2022)/Lab07_22301449_06.ipynb\" target=\"_parent\"><img src=\"https://colab.research.google.com/assets/colab-badge.svg\" alt=\"Open In Colab\"/></a>"
      ]
    },
    {
      "cell_type": "code",
      "execution_count": null,
      "metadata": {
        "colab": {
          "base_uri": "https://localhost:8080/"
        },
        "id": "FhNwOxvjnrLd",
        "outputId": "b2be6d2a-d456-41b1-c45a-b5ca23a12bb2"
      },
      "outputs": [
        {
          "output_type": "stream",
          "name": "stdout",
          "text": [
            "False\n",
            "True\n"
          ]
        }
      ],
      "source": [
        "#Task1\n",
        "class KeyIndex:\n",
        "  def __init__(self,a):\n",
        "    self.min=0\n",
        "    max=a[0]\n",
        "    for i in a:\n",
        "     if i<self.min:\n",
        "       self.min=i\n",
        "     if i>max:\n",
        "       max=i\n",
        "    x=max-self.min+1\n",
        "    self.k=[0]*x\n",
        "    for i in a:\n",
        "      idx=i-self.min\n",
        "      self.k[idx]+=1\n",
        "  def search(self,b):\n",
        "     if self.k[b-self.min-1]>0:\n",
        "       return False\n",
        "     else:\n",
        "        return True\n",
        "  def sort(self):\n",
        "     for i in range(len(self.k)):\n",
        "       if self.k[i]>0:\n",
        "         print([i]+self.min)\n",
        "\n",
        "\n",
        "    \n",
        "\n",
        "\n",
        "\n",
        "\n",
        "m=KeyIndex([-2,3,1,-3,3])\n",
        "print(m.search(4))\n",
        "print(m.search(3))\n"
      ]
    },
    {
      "cell_type": "code",
      "source": [
        "#Task2\n",
        "def Hash(array):\n",
        "    hash = [0] * 9\n",
        "    numofconsonant = 0\n",
        "    numofdigit = 0\n",
        "    consonants=['A','E','I','O','U']\n",
        "    for i in array:\n",
        "        for j in i:\n",
        "            if \"A\" <= j <= \"Z\" and j not in consonants:\n",
        "                numofconsonant += 1\n",
        "            elif \"0\" <= j <= \"9\":\n",
        "               numofdigit+=int(j)\n",
        "        value = ( numofconsonant * 24 +numofdigit) % 9\n",
        "        if hash[value] != 0:\n",
        "            notempty = True\n",
        "            while notempty is True:\n",
        "                if hash[value] == 0:\n",
        "                    hash[value] = i\n",
        "                    break\n",
        "                value = (value + 1) % len(hash)\n",
        "        else:\n",
        "            hash[value] = i\n",
        "        numofconsonant = 0\n",
        "        numofdigit = 0\n",
        "    print(hash)\n",
        "\n",
        "a = [\"ST1E89B8A32\"]\n",
        "Hash(a)\n"
      ],
      "metadata": {
        "colab": {
          "base_uri": "https://localhost:8080/"
        },
        "id": "NH0xhZHqYrOZ",
        "outputId": "56e64e51-6898-49ed-c71c-79283dedcf00"
      },
      "execution_count": null,
      "outputs": [
        {
          "output_type": "stream",
          "name": "stdout",
          "text": [
            "[0, 0, 0, 0, 'ST1E89B8A32', 0, 0, 0, 0]\n"
          ]
        }
      ]
    }
  ]
}