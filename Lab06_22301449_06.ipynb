{
  "nbformat": 4,
  "nbformat_minor": 0,
  "metadata": {
    "colab": {
      "provenance": [],
      "authorship_tag": "ABX9TyOpLbE5kDTdn1VYRmPsfTLf",
      "include_colab_link": true
    },
    "kernelspec": {
      "name": "python3",
      "display_name": "Python 3"
    },
    "language_info": {
      "name": "python"
    }
  },
  "cells": [
    {
      "cell_type": "markdown",
      "metadata": {
        "id": "view-in-github",
        "colab_type": "text"
      },
      "source": [
        "<a href=\"https://colab.research.google.com/github/EtMorteus/BRAC-CSE/blob/CSE220(Fall2022)/Lab06_22301449_06.ipynb\" target=\"_parent\"><img src=\"https://colab.research.google.com/assets/colab-badge.svg\" alt=\"Open In Colab\"/></a>"
      ]
    },
    {
      "cell_type": "code",
      "source": [
        "#task1.1\n",
        "def recur_factorial(n):\n",
        "  if n==1:\n",
        "    return n\n",
        "  else:\n",
        "    return n*recur_factorial(n-1)\n",
        "\n",
        "num=int(input())\n",
        "if num <1:\n",
        "  print(\"Invalid\")\n",
        "elif num==0:\n",
        "   print(1)\n",
        "else :\n",
        "   print(\"The Factorial of\",num,\"is\",recur_factorial(num))"
      ],
      "metadata": {
        "colab": {
          "base_uri": "https://localhost:8080/"
        },
        "id": "c_TmUVUIoVYD",
        "outputId": "050487a9-ec99-464f-ac6c-9219dc3cb7e8"
      },
      "execution_count": null,
      "outputs": [
        {
          "output_type": "stream",
          "name": "stdout",
          "text": [
            "9\n",
            "The Factorial of 9 is 362880\n"
          ]
        }
      ]
    },
    {
      "cell_type": "code",
      "source": [
        "#FlattenList\n",
        "\n",
        "\n",
        "def flattenList(given_list, output_list):\n",
        "   if len(given_list)==0:\n",
        "     return\n",
        "      \n",
        "   elif type(given_list[0])==list:\n",
        "     flattenList(given_list[0],output_list)\n",
        "     flattenList(given_list[1:],output_list)\n",
        "   else:\n",
        "     output_list.append(given_list[0])\n",
        "     flattenList(given_list[1:],output_list)\n",
        "\n",
        "     return output_list\n",
        "a=flattenList([1, [2, [3, [4], 5], 6], 7, 8, [9, [[10, 11], 12], 13], 14, [15, [16, [17]]]],[])\n",
        "print(a)\n",
        "\n",
        "\n",
        "   \n"
      ],
      "metadata": {
        "colab": {
          "base_uri": "https://localhost:8080/"
        },
        "id": "3k5kwos_s0yj",
        "outputId": "e895a70c-91ad-4229-f803-eadcbc58d09a"
      },
      "execution_count": null,
      "outputs": [
        {
          "output_type": "stream",
          "name": "stdout",
          "text": [
            "[1, 2, 3, 4, 5, 6, 7, 8, 9, 10, 11, 12, 13, 14, 15, 16, 17]\n"
          ]
        }
      ]
    },
    {
      "cell_type": "code",
      "source": [
        "#task 1.2\n",
        "def fibonacci(n):\n",
        "  if n<0:\n",
        "    return \"Invalid\"\n",
        "  elif n==1:\n",
        "    return 0\n",
        "  elif n==2:\n",
        "    return 1\n",
        "  else:\n",
        "    return fibonacci(n-1)+fibonacci(n-2)\n",
        "\n",
        "print(fibonacci(10))\n",
        "  "
      ],
      "metadata": {
        "id": "XkfFQjd8zL6y",
        "colab": {
          "base_uri": "https://localhost:8080/"
        },
        "outputId": "92dcfc52-1165-4080-da9f-fa8901d4e3af"
      },
      "execution_count": null,
      "outputs": [
        {
          "output_type": "stream",
          "name": "stdout",
          "text": [
            "34\n"
          ]
        }
      ]
    },
    {
      "cell_type": "code",
      "source": [
        "#task 1.3\n",
        "def print_array( a , n):\n",
        "\n",
        "   \n",
        "\n",
        "    if (n>=0):\n",
        "\n",
        "        print_array(a,n-1)\n",
        "        print(str(a[n]) + \" at index \" + str(n))\n",
        "print_array( [1,2,3,4,5,6], 5)"
      ],
      "metadata": {
        "colab": {
          "base_uri": "https://localhost:8080/"
        },
        "id": "SkkhLQtWkiBE",
        "outputId": "1d5bc7d3-446d-44c2-ab6a-01583a5f92bc"
      },
      "execution_count": null,
      "outputs": [
        {
          "output_type": "stream",
          "name": "stdout",
          "text": [
            "1 at index 0\n",
            "2 at index 1\n",
            "3 at index 2\n",
            "4 at index 3\n",
            "5 at index 4\n",
            "6 at index 5\n"
          ]
        }
      ]
    },
    {
      "cell_type": "code",
      "source": [
        "#Task 1.4\n",
        "def powerN(base,n):\n",
        "  if n==0:\n",
        "    return 1\n",
        "  elif n==1:\n",
        "    return base\n",
        "  else:\n",
        "    return base**n\n",
        "powerN(2,2)\n"
      ],
      "metadata": {
        "colab": {
          "base_uri": "https://localhost:8080/"
        },
        "id": "DGryV54--GVU",
        "outputId": "0653655d-2b0b-4a55-bc88-857fde836fa4"
      },
      "execution_count": null,
      "outputs": [
        {
          "output_type": "execute_result",
          "data": {
            "text/plain": [
              "4"
            ]
          },
          "metadata": {},
          "execution_count": 23
        }
      ]
    },
    {
      "cell_type": "code",
      "source": [
        "#task 2.1\n",
        "def binaryconverter(n):\n",
        "  a=0\n",
        "  if n>0:\n",
        "    binaryconverter(n//2)\n",
        "    print(n % 2,end = '')\n",
        "  \n",
        "binaryconverter(5)  "
      ],
      "metadata": {
        "colab": {
          "base_uri": "https://localhost:8080/"
        },
        "id": "v9fVpDYLBS4A",
        "outputId": "ea4a3b3b-8a25-425f-c843-375b3ae0e476"
      },
      "execution_count": null,
      "outputs": [
        {
          "output_type": "stream",
          "name": "stdout",
          "text": [
            "101"
          ]
        }
      ]
    },
    {
      "cell_type": "code",
      "source": [
        "#task2.2\n",
        "class Node:\n",
        "  def __init__(self,element,next=None):\n",
        "    self.element=element\n",
        "    self.next=next\n",
        "class LinkedList:\n",
        "  def __init__(self, data):\n",
        "    self.head = None \n",
        "    if type(data) == list:\n",
        "      for i in range(0,len(data)):\n",
        "        n2 = Node(data[i],None)\n",
        "        if (self.head == None):\n",
        "          self.head = n2\n",
        "          tail = n2\n",
        "        else:\n",
        "          tail.next = n2\n",
        "          tail = n2\n",
        "    if type(data)==Node:\n",
        "      self.head = data\n",
        "\n",
        "  def printList(self):\n",
        "    n = self.head\n",
        "    while n != None:\n",
        "      if n != None:\n",
        "        print(n.element,end=' ')\n",
        "      else:\n",
        "        print(n.element)\n",
        "      n = n.next\n",
        "\n",
        "  def add(self,p):\n",
        "    self.head = p\n",
        "    n = self.head\n",
        "    if (n==None):\n",
        "      return 0\n",
        "    else:\n",
        "      return n.element+self.add(n.next)\n",
        "\n",
        "      \n",
        "a = [10,20,30,40]\n",
        "z = LinkedList(a)\n",
        "print(z.add(z.head))\n",
        "  \n"
      ],
      "metadata": {
        "id": "IfMmTRyZCR7k",
        "colab": {
          "base_uri": "https://localhost:8080/"
        },
        "outputId": "343d7bbe-2c3e-4334-a81d-e58794dc32a5"
      },
      "execution_count": null,
      "outputs": [
        {
          "output_type": "stream",
          "name": "stdout",
          "text": [
            "100\n"
          ]
        }
      ]
    },
    {
      "cell_type": "code",
      "source": [
        "#task 2.3\n",
        "class Node:\n",
        "  def __init__(self, element, n):\n",
        "    self.element = element\n",
        "    self.next = n\n",
        "\n",
        "class LinkedList:\n",
        "  def __init__(self, data):\n",
        "    self.head = None \n",
        "    if type(data) == list:\n",
        "      for i in range(0,len(data)):\n",
        "        x = Node(data[i],None)\n",
        "        if (self.head == None):\n",
        "          self.head = x\n",
        "          tail = x\n",
        "        else:\n",
        "          tail.next = x\n",
        "          tail = x\n",
        "    if type(a)==Node:\n",
        "      self.head = a\n",
        "\n",
        "  def recurse(self,h):\n",
        "    if h == None:\n",
        "      return\n",
        "    else:\n",
        "      self.recurse(h.next)\n",
        "      print(h.element)\n",
        "\n",
        "a = [1,2,3,4,5,6,7]\n",
        "y = LinkedList(a)\n",
        "(y.recurse(y.head))\n",
        "\n",
        "     "
      ],
      "metadata": {
        "colab": {
          "base_uri": "https://localhost:8080/"
        },
        "id": "k64wszwdKp4X",
        "outputId": "a41ec46a-a87b-4b22-c47d-12b9b74b8f61"
      },
      "execution_count": null,
      "outputs": [
        {
          "output_type": "stream",
          "name": "stdout",
          "text": [
            "7\n",
            "6\n",
            "5\n",
            "4\n",
            "3\n",
            "2\n",
            "1\n"
          ]
        }
      ]
    },
    {
      "cell_type": "code",
      "source": [
        "#Task3\n",
        "def hocBuilder(height):\n",
        "  if height==0:\n",
        "    return \"Invalid\"\n",
        "  elif height==1:\n",
        "    return 8\n",
        "  else:\n",
        "    return 8+(5*height)\n",
        "hocBuilder(3)"
      ],
      "metadata": {
        "colab": {
          "base_uri": "https://localhost:8080/"
        },
        "id": "gCMYBHaxLm5e",
        "outputId": "cf184edc-57b8-4b41-9c9f-1d011aec0684"
      },
      "execution_count": null,
      "outputs": [
        {
          "output_type": "execute_result",
          "data": {
            "text/plain": [
              "23"
            ]
          },
          "metadata": {},
          "execution_count": 14
        }
      ]
    },
    {
      "cell_type": "code",
      "source": [
        "#Task4.1\n",
        "def column(n):\n",
        "  if n>=1:\n",
        "    column(n-1)\n",
        "    print(row(n))\n",
        "\n",
        "def row(n):\n",
        "  if n>1:\n",
        "    print(row(n-1),end=\" \")\n",
        "    return n\n",
        "  else:\n",
        "    return n\n",
        "\n",
        "n = 5\n",
        "column(n)"
      ],
      "metadata": {
        "id": "kZofFyCeP3sf",
        "colab": {
          "base_uri": "https://localhost:8080/"
        },
        "outputId": "cb20a3a0-aac8-47e0-b950-30a0e1ff1728"
      },
      "execution_count": null,
      "outputs": [
        {
          "output_type": "stream",
          "name": "stdout",
          "text": [
            "1\n",
            "1 2\n",
            "1 2 3\n",
            "1 2 3 4\n",
            "1 2 3 4 5\n"
          ]
        }
      ]
    },
    {
      "cell_type": "code",
      "source": [
        "#Task4.2\n",
        "def gap(a):\n",
        "  if a == 0:\n",
        "    return\n",
        "  print(\" \",end =\" \")\n",
        "  gap(a-1)\n",
        "\n",
        "def numbers(b):\n",
        "  if b == 0:\n",
        "    return b\n",
        "  numbers(b-1)\n",
        "  print(b, end=\" \")\n",
        "\n",
        "def steps(x,y):\n",
        "  if x == 0:\n",
        "    return \n",
        "  gap(x-1)\n",
        "  numbers(y-x+1,)\n",
        "  print()\n",
        "  steps(x-1,y)\n",
        "\n",
        "x = 5\n",
        "steps(x,x)\n"
      ],
      "metadata": {
        "colab": {
          "base_uri": "https://localhost:8080/"
        },
        "id": "d1PiF3bbY0Ib",
        "outputId": "8cace638-995d-4b17-a111-d89bfb115084"
      },
      "execution_count": null,
      "outputs": [
        {
          "output_type": "stream",
          "name": "stdout",
          "text": [
            "        1 \n",
            "      1 2 \n",
            "    1 2 3 \n",
            "  1 2 3 4 \n",
            "1 2 3 4 5 \n"
          ]
        }
      ]
    },
    {
      "cell_type": "code",
      "source": [
        "#Task5\n",
        "class FinalQ: \n",
        " def print(self,array,idx): \n",
        "   if(idx<len(array)): \n",
        "     profit = self.calcProfit(array[idx])  #TO DO \n",
        "     print(f\"Investment: {array[idx]}; Profit: {self.calcProfit(array[idx])}\")\n",
        "     self.print(array,idx+1)\n",
        "\n",
        "\n",
        "  \n",
        " def calcProfit(self,investment): \n",
        "   if investment == 25000:\n",
        "      return 0.0\n",
        "   else:\n",
        "      if investment<=100000:\n",
        "        return self.calcProfit(investment-1000)+45.0\n",
        "      else:\n",
        "        return self.calcProfit(investment-1000)+80.0\n",
        "\n",
        "    \n",
        "  \n",
        "#Tester \n",
        "array=[25000,100000,250000,350000] \n",
        "f = FinalQ() \n",
        "f.print(array,0)\n",
        "\n"
      ],
      "metadata": {
        "colab": {
          "base_uri": "https://localhost:8080/"
        },
        "id": "y6t0XFF3cES4",
        "outputId": "51da9ac8-0948-4eee-9915-fe1acff8ce75"
      },
      "execution_count": null,
      "outputs": [
        {
          "output_type": "stream",
          "name": "stdout",
          "text": [
            "Investment: 25000; Profit: 0.0\n",
            "Investment: 100000; Profit: 3375.0\n",
            "Investment: 250000; Profit: 15375.0\n",
            "Investment: 350000; Profit: 23375.0\n"
          ]
        }
      ]
    }
  ]
}